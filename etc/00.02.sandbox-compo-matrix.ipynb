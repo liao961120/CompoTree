{
 "cells": [
  {
   "cell_type": "code",
   "execution_count": 1,
   "metadata": {},
   "outputs": [],
   "source": [
    "%load_ext autoreload\n",
    "%autoreload 2"
   ]
  },
  {
   "cell_type": "code",
   "execution_count": 2,
   "metadata": {},
   "outputs": [],
   "source": [
    "import sys\n",
    "sys.path.append(\"../src\")"
   ]
  },
  {
   "cell_type": "code",
   "execution_count": 3,
   "metadata": {},
   "outputs": [],
   "source": [
    "from CompoTree import ComponentTree, Radicals, TSVariants, CharLexicon\n",
    "from gensim.models.keyedvectors import KeyedVectors\n",
    "import numpy as np\n",
    "import numpy.linalg as la"
   ]
  },
  {
   "cell_type": "code",
   "execution_count": 4,
   "metadata": {},
   "outputs": [],
   "source": [
    "\n",
    "kv = KeyedVectors.load(\"../data/fasttext-zh-sw/fasttext-zh-sw.kv\")\n",
    "kv.init_sims()"
   ]
  },
  {
   "cell_type": "code",
   "execution_count": 5,
   "metadata": {},
   "outputs": [],
   "source": [
    "ctree = ComponentTree.load()\n",
    "radicals = Radicals.load()\n",
    "tsvars = TSVariants.load()\n",
    "lexicon = CharLexicon.load()\n"
   ]
  },
  {
   "cell_type": "code",
   "execution_count": 6,
   "metadata": {},
   "outputs": [
    {
     "data": {
      "text/plain": [
       "[['氵'], [<⿰:[<⿱:['廿'][<⿻:['口'][<⿻:[<⿱:['一']['一']>]['人']>]>]>]['隹'](GTKV)>]]"
      ]
     },
     "execution_count": 6,
     "metadata": {},
     "output_type": "execute_result"
    }
   ],
   "source": [
    "ctree.query(\"灘\", use_flag=\"first\")[0].children"
   ]
  },
  {
   "cell_type": "code",
   "execution_count": 7,
   "metadata": {},
   "outputs": [
    {
     "data": {
      "text/plain": [
       "['萤']"
      ]
     },
     "execution_count": 7,
     "metadata": {},
     "output_type": "execute_result"
    }
   ],
   "source": [
    "tsvars.convert(\"螢\")"
   ]
  },
  {
   "cell_type": "code",
   "execution_count": 8,
   "metadata": {},
   "outputs": [],
   "source": [
    "from collections import defaultdict\n",
    "chars_set = set()\n",
    "compo_set = set()\n",
    "decompo_set = set()\n",
    "compo_items = set()\n",
    "for word in lexicon:  \n",
    "    if word not in kv.vocab:\n",
    "        continue\n",
    "        \n",
    "    try:\n",
    "        ortho_x = ctree.query(word, \n",
    "                          max_depth=1, \n",
    "                          use_flag=\"shortest\")[0]\n",
    "    except:\n",
    "        print(word)\n",
    "        continue\n",
    "            \n",
    "    if isinstance(ortho_x, str):\n",
    "        compos = [ortho_x]\n",
    "    else:\n",
    "        compos = [str(x) for x in \n",
    "                  ortho_x.components(use_flag=\"shortest\")]\n",
    "        \n",
    "    compo_seq = tuple(sorted(compos))     \n",
    "    if compo_seq not in compo_items and len(compos) == 2:\n",
    "        compo_items.add(compo_seq)\n",
    "    else:        \n",
    "        continue\n",
    "    \n",
    "    chars_set.add(word)    \n",
    "    if tsvars.is_simplified(word):\n",
    "        compos = [x+\"_s\" for x in compos]\n",
    "    else:\n",
    "        compos = [x+\"_t\" for x in compos]\n",
    "       \n",
    "    compo_set |= set(compos)\n",
    "    decompo_set |= set((word, str(compo_x))\n",
    "                       for compo_x in compos)    "
   ]
  },
  {
   "cell_type": "code",
   "execution_count": 9,
   "metadata": {},
   "outputs": [
    {
     "data": {
      "text/plain": [
       "(6156, 2498, 12292)"
      ]
     },
     "execution_count": 9,
     "metadata": {},
     "output_type": "execute_result"
    }
   ],
   "source": [
    "len(chars_set), len(compo_set), len(decompo_set)"
   ]
  },
  {
   "cell_type": "code",
   "execution_count": 10,
   "metadata": {},
   "outputs": [
    {
     "data": {
      "text/plain": [
       "[('丁', '一_t'),\n",
       " ('丁', '亅_t'),\n",
       " ('七', '乚_t'),\n",
       " ('七', '㇀_t'),\n",
       " ('万', '⿰丿𠃌_s'),\n",
       " ('万', '一_s'),\n",
       " ('三', '一_t'),\n",
       " ('三', '二_t'),\n",
       " ('上', '一_t'),\n",
       " ('上', '⺊_t'),\n",
       " ('下', '一_t'),\n",
       " ('下', '卜_t'),\n",
       " ('丕', '不_t'),\n",
       " ('丕', '一_t'),\n",
       " ('丙', '一_t'),\n",
       " ('丙', '内_t'),\n",
       " ('丛', '从_s'),\n",
       " ('丛', '一_s'),\n",
       " ('丝', '一_s'),\n",
       " ('丝', '⿰②②_s')]"
      ]
     },
     "execution_count": 10,
     "metadata": {},
     "output_type": "execute_result"
    }
   ],
   "source": [
    "sorted(list(decompo_set), key=lambda x: x[0])[:20]"
   ]
  },
  {
   "cell_type": "markdown",
   "metadata": {},
   "source": [
    "## Component Matrix"
   ]
  },
  {
   "cell_type": "code",
   "execution_count": 11,
   "metadata": {},
   "outputs": [],
   "source": [
    "import numpy as np\n",
    "from sklearn.preprocessing import LabelEncoder"
   ]
  },
  {
   "cell_type": "code",
   "execution_count": 12,
   "metadata": {},
   "outputs": [
    {
     "data": {
      "text/plain": [
       "LabelEncoder()"
      ]
     },
     "execution_count": 12,
     "metadata": {},
     "output_type": "execute_result"
    }
   ],
   "source": [
    "char_enc = LabelEncoder()\n",
    "compo_enc = LabelEncoder()\n",
    "char_enc.fit(list(chars_set))\n",
    "compo_enc.fit(list(compo_set))"
   ]
  },
  {
   "cell_type": "code",
   "execution_count": 13,
   "metadata": {},
   "outputs": [],
   "source": [
    "n_char = len(char_enc.classes_)\n",
    "n_compo = len(compo_enc.classes_)"
   ]
  },
  {
   "cell_type": "code",
   "execution_count": 14,
   "metadata": {},
   "outputs": [
    {
     "data": {
      "text/plain": [
       "(6156, 2498)"
      ]
     },
     "execution_count": 14,
     "metadata": {},
     "output_type": "execute_result"
    }
   ],
   "source": [
    "decompo_matrix = np.zeros((n_char, n_compo), dtype=np.int32)\n",
    "decompo_matrix.shape"
   ]
  },
  {
   "cell_type": "code",
   "execution_count": 15,
   "metadata": {},
   "outputs": [],
   "source": [
    "for item_x in decompo_set:\n",
    "    char_idx = char_enc.transform([item_x[0]])[0]\n",
    "    compo_idx = compo_enc.transform([item_x[1]])[0]\n",
    "    decompo_matrix[char_idx, compo_idx] = 1"
   ]
  },
  {
   "cell_type": "code",
   "execution_count": 16,
   "metadata": {},
   "outputs": [
    {
     "data": {
      "text/plain": [
       "LabelEncoder()"
      ]
     },
     "execution_count": 16,
     "metadata": {},
     "output_type": "execute_result"
    }
   ],
   "source": [
    "aa = LabelEncoder()\n",
    "aa.fit([\"a\", \"b\", \"c\"])"
   ]
  },
  {
   "cell_type": "code",
   "execution_count": 17,
   "metadata": {},
   "outputs": [
    {
     "name": "stdout",
     "output_type": "stream",
     "text": [
      "(6156, 1408)\n"
     ]
    },
    {
     "data": {
      "text/plain": [
       "1408"
      ]
     },
     "execution_count": 17,
     "metadata": {},
     "output_type": "execute_result"
    }
   ],
   "source": [
    "sel_compo_idx = decompo_matrix.sum(axis=0)>1\n",
    "sel_compo_enc = LabelEncoder()\n",
    "sel_compo_enc.fit(compo_enc.classes_[sel_compo_idx])\n",
    "decompo_matrix_reduced = decompo_matrix[:, sel_compo_idx]\n",
    "print(decompo_matrix_reduced.shape)\n",
    "la.matrix_rank(decompo_matrix_reduced)"
   ]
  },
  {
   "cell_type": "code",
   "execution_count": 18,
   "metadata": {},
   "outputs": [
    {
     "data": {
      "text/plain": [
       "(6156, 300)"
      ]
     },
     "execution_count": 18,
     "metadata": {},
     "output_type": "execute_result"
    }
   ],
   "source": [
    "## Character semantic vector\n",
    "word_kv_idxs = []\n",
    "for word in char_enc.classes_:\n",
    "    word_kv_idxs.append(kv.vocab[word].index)\n",
    "char_ft = kv.vectors_norm[word_kv_idxs, :]\n",
    "char_ft.shape"
   ]
  },
  {
   "cell_type": "markdown",
   "metadata": {},
   "source": [
    "## Component semantic matrix\n",
    "$$\n",
    "C_{k\\times d}: \\textrm{Component semantic matrix, k components $\\times$ d vector size }\\\\\n",
    "Z_{n\\times d}: \\textrm{Character semantic matrix, n characters $\\times$ d vector size }\\\\\n",
    "D_{n\\times k}: \\textrm{Decomposition matrix, n characters $\\times$ k components}\\\\\n",
    "Z = D\\cdot C\\\\\n",
    "C = (D^\\top D)^{-1}D^\\top Z\n",
    "$$"
   ]
  },
  {
   "cell_type": "code",
   "execution_count": 19,
   "metadata": {},
   "outputs": [
    {
     "name": "stdout",
     "output_type": "stream",
     "text": [
      "D, Z:  (6156, 1408) (6156, 300)\n"
     ]
    }
   ],
   "source": [
    "import numpy as np\n",
    "import numpy.linalg as la\n",
    "\n",
    "D = decompo_matrix_reduced\n",
    "Z = char_ft\n",
    "print(\"D, Z: \", D.shape, Z.shape)\n",
    "compo_ft = la.inv(D.T.dot(D)).dot(D.T).dot(Z)"
   ]
  },
  {
   "cell_type": "code",
   "execution_count": 20,
   "metadata": {},
   "outputs": [],
   "source": [
    "Zhat = D.dot(compo_ft)\n",
    "R = Z.dot(Zhat.T)"
   ]
  },
  {
   "cell_type": "code",
   "execution_count": 21,
   "metadata": {},
   "outputs": [],
   "source": [
    "def query_component(compo, is_trad=True):\n",
    "    if is_trad is not None:\n",
    "        compo = compo + (\"_t\" if is_trad else \"_s\")\n",
    "    compo_vec = compo_ft[sel_compo_enc.transform([compo])[0]]\n",
    "    return compo_vec"
   ]
  },
  {
   "cell_type": "code",
   "execution_count": 22,
   "metadata": {},
   "outputs": [
    {
     "data": {
      "text/plain": [
       "[(('而', 0.9840582609176636), ('却', 0.9877650737762451)),\n",
       " (('即', 0.983774721622467), ('虽', 0.9870389699935913)),\n",
       " (('亦', 0.9832123517990112), ('则', 0.9865913391113281)),\n",
       " (('取', 0.9828706979751587), ('对', 0.9858716726303101)),\n",
       " (('如', 0.9820775389671326), ('说', 0.9857405424118042)),\n",
       " (('也', 0.9820446968078613), ('当', 0.9855529069900513)),\n",
       " (('之', 0.9816820621490479), ('与', 0.9847308993339539)),\n",
       " (('便', 0.9816052317619324), ('应', 0.9843550324440002)),\n",
       " (('以', 0.9815458059310913), ('还', 0.9843039512634277)),\n",
       " (('和', 0.9813661575317383), ('贤', 0.9842392206192017))]"
      ]
     },
     "execution_count": 22,
     "metadata": {},
     "output_type": "execute_result"
    }
   ],
   "source": [
    "list(zip(kv.similar_by_vector(query_component(\"又\", is_trad=True)),\n",
    "    kv.similar_by_vector(query_component(\"又\", is_trad=False))))"
   ]
  },
  {
   "cell_type": "code",
   "execution_count": 23,
   "metadata": {},
   "outputs": [
    {
     "data": {
      "text/plain": [
       "'钅'"
      ]
     },
     "execution_count": 23,
     "metadata": {},
     "output_type": "execute_result"
    }
   ],
   "source": [
    "{v: k for k, v in radicals.ts_radicals.items()}[\"金\"]"
   ]
  },
  {
   "cell_type": "code",
   "execution_count": 24,
   "metadata": {},
   "outputs": [
    {
     "data": {
      "text/plain": [
       "False"
      ]
     },
     "execution_count": 24,
     "metadata": {},
     "output_type": "execute_result"
    }
   ],
   "source": [
    "tsvars.is_traditional(\"妻\")"
   ]
  },
  {
   "cell_type": "code",
   "execution_count": 25,
   "metadata": {},
   "outputs": [
    {
     "data": {
      "text/plain": [
       "[(('妹', 0.9858947992324829), ('婶', 0.9854758977890015)),\n",
       " (('媚', 0.9857302904129028), ('嬷', 0.9837465882301331)),\n",
       " (('妻', 0.9856106042861938), ('敫', 0.9828673601150513)),\n",
       " (('姊', 0.9844889044761658), ('嫫', 0.982772707939148)),\n",
       " (('逅', 0.9835426807403564), ('鐏', 0.9814895391464233)),\n",
       " (('嫂', 0.9832441806793213), ('姘', 0.9814478754997253)),\n",
       " (('婷', 0.9830854535102844), ('祃', 0.9813671708106995)),\n",
       " (('綺', 0.9828873872756958), ('齹', 0.9808992147445679)),\n",
       " (('竟', 0.9828554391860962), ('婵', 0.9808909893035889)),\n",
       " (('玔', 0.9827768802642822), ('娆', 0.9808192849159241))]"
      ]
     },
     "execution_count": 25,
     "metadata": {},
     "output_type": "execute_result"
    }
   ],
   "source": [
    "list(zip(kv.similar_by_vector(query_component(\"女\", is_trad=True)),\n",
    "    kv.similar_by_vector(query_component(\"女\", is_trad=False))))"
   ]
  },
  {
   "cell_type": "code",
   "execution_count": 26,
   "metadata": {},
   "outputs": [
    {
     "data": {
      "text/plain": [
       "[(('鉆', 0.9833829402923584), ('钣', 0.98496013879776)),\n",
       " (('搆', 0.9824221134185791), ('熂', 0.9849532842636108)),\n",
       " (('竉', 0.9823939204216003), ('毂', 0.9833028316497803)),\n",
       " (('鑄', 0.9819209575653076), ('铅', 0.9829620122909546)),\n",
       " (('鋃', 0.981684148311615), ('灮', 0.982617974281311)),\n",
       " (('犠', 0.9815082550048828), ('裎', 0.9825989007949829)),\n",
       " (('袗', 0.981484591960907), ('铤', 0.9822971820831299)),\n",
       " (('緃', 0.9813698530197144), ('诽', 0.9818836450576782)),\n",
       " (('拑', 0.9812726378440857), ('鐏', 0.9815876483917236)),\n",
       " (('牐', 0.9808145761489868), ('拧', 0.9815712571144104))]"
      ]
     },
     "execution_count": 26,
     "metadata": {},
     "output_type": "execute_result"
    }
   ],
   "source": [
    "list(zip(kv.similar_by_vector(query_component(\"金\", is_trad=True)),\n",
    "    kv.similar_by_vector(query_component(\"钅\", is_trad=False))))"
   ]
  },
  {
   "cell_type": "code",
   "execution_count": 27,
   "metadata": {},
   "outputs": [
    {
     "data": {
      "text/plain": [
       "[(('鉆', 0.9833829402923584), ('钣', 0.98496013879776)),\n",
       " (('搆', 0.9824221134185791), ('熂', 0.9849532842636108)),\n",
       " (('竉', 0.9823939204216003), ('毂', 0.9833028316497803)),\n",
       " (('鑄', 0.9819209575653076), ('铅', 0.9829620122909546)),\n",
       " (('鋃', 0.981684148311615), ('灮', 0.982617974281311)),\n",
       " (('犠', 0.9815082550048828), ('裎', 0.9825989007949829)),\n",
       " (('袗', 0.981484591960907), ('铤', 0.9822971820831299)),\n",
       " (('緃', 0.9813698530197144), ('诽', 0.9818836450576782)),\n",
       " (('拑', 0.9812726378440857), ('鐏', 0.9815876483917236)),\n",
       " (('牐', 0.9808145761489868), ('拧', 0.9815712571144104))]"
      ]
     },
     "execution_count": 27,
     "metadata": {},
     "output_type": "execute_result"
    }
   ],
   "source": [
    "list(zip(kv.similar_by_vector(query_component(\"金\", is_trad=True)),\n",
    "    kv.similar_by_vector(query_component(\"钅\", is_trad=False))))"
   ]
  },
  {
   "cell_type": "code",
   "execution_count": 28,
   "metadata": {},
   "outputs": [
    {
     "name": "stdout",
     "output_type": "stream",
     "text": [
      "rois count:  6\n",
      "rois count:  46\n"
     ]
    }
   ],
   "source": [
    "simp_radicals = [x+\"_s\" for x in radicals.ts_radicals.keys()]\n",
    "trad_radicals = [x+\"_t\" for x in radicals.ts_radicals.values()]\n",
    "targets = [(\"又_s\", \"又_t\"), (\"言_s\", \"言_t\"), (\"女_s\", \"女_t\")]\n",
    "\n",
    "rois = []\n",
    "for s, t in targets:\n",
    "    if s in sel_compo_enc.classes_ and \\\n",
    "       t in sel_compo_enc.classes_:\n",
    "        rois += [s, t]\n",
    "print(\"rois count: \", len(rois))\n",
    "for srad, trad in zip(simp_radicals, trad_radicals):\n",
    "    if srad in sel_compo_enc.classes_ and \\\n",
    "       trad in sel_compo_enc.classes_:\n",
    "        rois += [srad, trad]\n",
    "print(\"rois count: \", len(rois))"
   ]
  },
  {
   "cell_type": "code",
   "execution_count": 29,
   "metadata": {},
   "outputs": [],
   "source": [
    "roi_vectors = np.zeros((len(rois), compo_ft.shape[1]), dtype=np.float)\n",
    "for roi_idx, roi_x in enumerate(rois):\n",
    "    roi_vectors[roi_idx] = query_component(roi_x, is_trad=None)"
   ]
  },
  {
   "cell_type": "code",
   "execution_count": 30,
   "metadata": {},
   "outputs": [
    {
     "data": {
      "text/plain": [
       "(46, 300)"
      ]
     },
     "execution_count": 30,
     "metadata": {},
     "output_type": "execute_result"
    }
   ],
   "source": [
    "roi_vectors.shape"
   ]
  },
  {
   "cell_type": "code",
   "execution_count": 31,
   "metadata": {},
   "outputs": [],
   "source": [
    "from sklearn.decomposition import PCA\n",
    "roi_pca = PCA(3)\n",
    "roi_2d = roi_pca.fit_transform(roi_vectors)"
   ]
  },
  {
   "cell_type": "code",
   "execution_count": 32,
   "metadata": {},
   "outputs": [],
   "source": [
    "from matplotlib import font_manager"
   ]
  },
  {
   "cell_type": "code",
   "execution_count": null,
   "metadata": {},
   "outputs": [],
   "source": []
  },
  {
   "cell_type": "code",
   "execution_count": 33,
   "metadata": {},
   "outputs": [
    {
     "data": {
      "text/plain": [
       "<matplotlib.legend.Legend at 0x1ad13d8e6d0>"
      ]
     },
     "execution_count": 33,
     "metadata": {},
     "output_type": "execute_result"
    },
    {
     "data": {
      "image/png": "[encoded data removed]",
      "text/plain": [
       "<Figure size 864x432 with 1 Axes>"
      ]
     },
     "metadata": {
      "needs_background": "light"
     },
     "output_type": "display_data"
    }
   ],
   "source": [
    "import matplotlib.pyplot as plt\n",
    "plt.rcParams[\"font.family\"] = \"HanaMinA\" \n",
    "plt.figure(figsize=(12,6))\n",
    "idx_iter = iter(range(len(rois)))\n",
    "dim_x = 0\n",
    "dim_y = 2\n",
    "for s_idx, t_idx in zip(*([idx_iter]*2)):\n",
    "    s_compo = rois[s_idx].split(\"_\")[0]\n",
    "    t_compo = rois[t_idx].split(\"_\")[0]\n",
    "    \n",
    "    text_args = dict(fontsize=14)\n",
    "    if (rois[s_idx], rois[t_idx]) in targets:\n",
    "        text_args[\"fontsize\"]=20\n",
    "    \n",
    "    plt.text(roi_2d[s_idx, dim_x], roi_2d[s_idx, dim_y], \n",
    "             s_compo, color=\"red\", **text_args)\n",
    "    plt.text(roi_2d[t_idx, dim_x], roi_2d[t_idx, dim_y], \n",
    "             t_compo, color=\"blue\", **text_args)\n",
    "    plt.plot(roi_2d[[s_idx, t_idx], dim_x], roi_2d[[s_idx, t_idx], dim_y], color='#AAAAAA')\n",
    "coord_max = roi_2d.max(axis=0)+0.1\n",
    "coord_min = roi_2d.min(axis=0)-0.1\n",
    "plt.xlim(coord_min[dim_x], coord_max[dim_x])\n",
    "plt.ylim(coord_min[dim_y], coord_max[dim_y])\n",
    "plt.xlabel(f\"PCA-{dim_x}\")\n",
    "plt.ylabel(f\"PCA-{dim_y}\")\n",
    "from matplotlib.patches import Patch\n",
    "h_legends = [Patch(facecolor=\"red\", label=\"simplified\"),\n",
    "             Patch(facecolor=\"blue\", label=\"traditional\")]\n",
    "plt.legend(handles=h_legends, loc=\"upper right\")"
   ]
  },
  {
   "cell_type": "markdown",
   "metadata": {},
   "source": [
    "## Output component vectors"
   ]
  },
  {
   "cell_type": "code",
   "execution_count": 39,
   "metadata": {},
   "outputs": [],
   "source": [
    "import pickle\n",
    "out_data = {\n",
    "    \"compovec\": compo_ft,\n",
    "    \"components\": sel_compo_enc.classes_.tolist()\n",
    "}\n",
    "with open(\"../data/exp/compo_vectors.pkl\", \"wb\") as fout:\n",
    "    pickle.dump(out_data, fout)"
   ]
  },
  {
   "cell_type": "code",
   "execution_count": null,
   "metadata": {},
   "outputs": [],
   "source": []
  }
 ],
 "metadata": {
  "kernelspec": {
   "display_name": "Python 3",
   "language": "python",
   "name": "python3"
  },
  "language_info": {
   "codemirror_mode": {
    "name": "ipython",
    "version": 3
   },
   "file_extension": ".py",
   "mimetype": "text/x-python",
   "name": "python",
   "nbconvert_exporter": "python",
   "pygments_lexer": "ipython3",
   "version": "3.8.2"
  }
 },
 "nbformat": 4,
 "nbformat_minor": 4
}
