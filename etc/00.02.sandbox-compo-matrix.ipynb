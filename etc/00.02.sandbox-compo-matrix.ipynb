{
 "cells": [
  {
   "cell_type": "code",
   "execution_count": 1,
   "metadata": {},
   "outputs": [],
   "source": [
    "%load_ext autoreload\n",
    "%autoreload 2"
   ]
  },
  {
   "cell_type": "code",
   "execution_count": 2,
   "metadata": {},
   "outputs": [],
   "source": [
    "import sys\n",
    "sys.path.append(\"../src\")"
   ]
  },
  {
   "cell_type": "code",
   "execution_count": 3,
   "metadata": {},
   "outputs": [],
   "source": [
    "from CompoTree import ComponentTree, Radicals, TSVariants, CharLexicon\n",
    "from gensim.models.keyedvectors import KeyedVectors\n",
    "import numpy as np\n",
    "import numpy.linalg as la"
   ]
  },
  {
   "cell_type": "code",
   "execution_count": 4,
   "metadata": {},
   "outputs": [],
   "source": [
    "\n",
    "kv = KeyedVectors.load(\"../data/fasttext-zh-sw/fasttext-zh-sw.kv\")\n",
    "kv.init_sims()"
   ]
  },
  {
   "cell_type": "code",
   "execution_count": 5,
   "metadata": {},
   "outputs": [],
   "source": [
    "ctree = ComponentTree.load()\n",
    "radicals = Radicals.load()\n",
    "tsvars = TSVariants.load()\n",
    "lexicon = CharLexicon.load()\n"
   ]
  },
  {
   "cell_type": "code",
   "execution_count": 6,
   "metadata": {},
   "outputs": [
    {
     "data": {
      "text/plain": [
       "[['氵'], [<⿰:[<⿱:廿⿻口夫>]['隹'](GTKV)>]]"
      ]
     },
     "execution_count": 6,
     "metadata": {},
     "output_type": "execute_result"
    }
   ],
   "source": [
    "ctree.query(\"灘\", use_flag=\"first\")[0].children"
   ]
  },
  {
   "cell_type": "code",
   "execution_count": 8,
   "metadata": {},
   "outputs": [
    {
     "data": {
      "text/plain": [
       "['萤']"
      ]
     },
     "execution_count": 8,
     "metadata": {},
     "output_type": "execute_result"
    }
   ],
   "source": [
    "tsvars.convert(\"螢\")"
   ]
  },
  {
   "cell_type": "code",
   "execution_count": 8,
   "metadata": {},
   "outputs": [],
   "source": [
    "from collections import defaultdict\n",
    "chars_set = set()\n",
    "compo_set = set()\n",
    "decompo_set = set()\n",
    "compo_items = set()\n",
    "for word in lexicon:  \n",
    "    if word not in kv.vocab:\n",
    "        continue\n",
    "        \n",
    "    try:\n",
    "        ortho_x = ctree.query(word, \n",
    "                          max_depth=1, \n",
    "                          use_flag=\"shortest\")[0]\n",
    "    except:\n",
    "        print(word)\n",
    "        continue\n",
    "            \n",
    "    if isinstance(ortho_x, str):\n",
    "        compos = [ortho_x]\n",
    "    else:\n",
    "        compos = [str(x) for x in \n",
    "                  ortho_x.components(use_flag=\"shortest\")]\n",
    "        \n",
    "    compo_seq = tuple(sorted(compos))     \n",
    "    if compo_seq not in compo_items and len(compos) == 2:\n",
    "        compo_items.add(compo_seq)\n",
    "    else:        \n",
    "        continue\n",
    "    \n",
    "    chars_set.add(word)    \n",
    "    if tsvars.is_simplified(word):\n",
    "        compos = [x+\"_s\" for x in compos]\n",
    "    else:\n",
    "        compos = [x+\"_t\" for x in compos]\n",
    "       \n",
    "    compo_set |= set(compos)\n",
    "    decompo_set |= set((word, str(compo_x))\n",
    "                       for compo_x in compos)    "
   ]
  },
  {
   "cell_type": "code",
   "execution_count": 9,
   "metadata": {},
   "outputs": [
    {
     "data": {
      "text/plain": [
       "(6156, 2497, 12292)"
      ]
     },
     "execution_count": 9,
     "metadata": {},
     "output_type": "execute_result"
    }
   ],
   "source": [
    "len(chars_set), len(compo_set), len(decompo_set)"
   ]
  },
  {
   "cell_type": "code",
   "execution_count": 10,
   "metadata": {},
   "outputs": [
    {
     "data": {
      "text/plain": [
       "[('丁', '亅_t'),\n",
       " ('丁', '一_t'),\n",
       " ('七', '乚_t'),\n",
       " ('七', '㇀_t'),\n",
       " ('万', '一_s'),\n",
       " ('万', '⿰丿𠃌_s'),\n",
       " ('三', '二_t'),\n",
       " ('三', '一_t'),\n",
       " ('上', '⺊_t'),\n",
       " ('上', '一_t'),\n",
       " ('下', '卜_t'),\n",
       " ('下', '一_t'),\n",
       " ('丕', '一_t'),\n",
       " ('丕', '不_t'),\n",
       " ('丙', '一_t'),\n",
       " ('丙', '内_t'),\n",
       " ('丛', '一_s'),\n",
       " ('丛', '从_s'),\n",
       " ('丝', '⿰②②_s'),\n",
       " ('丝', '一_s')]"
      ]
     },
     "execution_count": 10,
     "metadata": {},
     "output_type": "execute_result"
    }
   ],
   "source": [
    "sorted(list(decompo_set), key=lambda x: x[0])[:20]"
   ]
  },
  {
   "cell_type": "markdown",
   "metadata": {},
   "source": [
    "## Component Matrix"
   ]
  },
  {
   "cell_type": "code",
   "execution_count": 11,
   "metadata": {},
   "outputs": [],
   "source": [
    "import numpy as np\n",
    "from sklearn.preprocessing import LabelEncoder"
   ]
  },
  {
   "cell_type": "code",
   "execution_count": 12,
   "metadata": {},
   "outputs": [
    {
     "data": {
      "text/plain": [
       "LabelEncoder()"
      ]
     },
     "execution_count": 12,
     "metadata": {},
     "output_type": "execute_result"
    }
   ],
   "source": [
    "char_enc = LabelEncoder()\n",
    "compo_enc = LabelEncoder()\n",
    "char_enc.fit(list(chars_set))\n",
    "compo_enc.fit(list(compo_set))"
   ]
  },
  {
   "cell_type": "code",
   "execution_count": 13,
   "metadata": {},
   "outputs": [],
   "source": [
    "n_char = len(char_enc.classes_)\n",
    "n_compo = len(compo_enc.classes_)"
   ]
  },
  {
   "cell_type": "code",
   "execution_count": 14,
   "metadata": {},
   "outputs": [
    {
     "data": {
      "text/plain": [
       "(6156, 2497)"
      ]
     },
     "execution_count": 14,
     "metadata": {},
     "output_type": "execute_result"
    }
   ],
   "source": [
    "decompo_matrix = np.zeros((n_char, n_compo), dtype=np.int32)\n",
    "decompo_matrix.shape"
   ]
  },
  {
   "cell_type": "code",
   "execution_count": 15,
   "metadata": {},
   "outputs": [],
   "source": [
    "for item_x in decompo_set:\n",
    "    char_idx = char_enc.transform([item_x[0]])[0]\n",
    "    compo_idx = compo_enc.transform([item_x[1]])[0]\n",
    "    decompo_matrix[char_idx, compo_idx] = 1"
   ]
  },
  {
   "cell_type": "code",
   "execution_count": 16,
   "metadata": {},
   "outputs": [
    {
     "data": {
      "text/plain": [
       "LabelEncoder()"
      ]
     },
     "execution_count": 16,
     "metadata": {},
     "output_type": "execute_result"
    }
   ],
   "source": [
    "aa = LabelEncoder()\n",
    "aa.fit([\"a\", \"b\", \"c\"])"
   ]
  },
  {
   "cell_type": "code",
   "execution_count": 17,
   "metadata": {},
   "outputs": [
    {
     "name": "stdout",
     "output_type": "stream",
     "text": [
      "(6156, 1407)\n"
     ]
    },
    {
     "data": {
      "text/plain": [
       "1407"
      ]
     },
     "execution_count": 17,
     "metadata": {},
     "output_type": "execute_result"
    }
   ],
   "source": [
    "sel_compo_idx = decompo_matrix.sum(axis=0)>1\n",
    "sel_compo_enc = LabelEncoder()\n",
    "sel_compo_enc.fit(compo_enc.classes_[sel_compo_idx])\n",
    "decompo_matrix_reduced = decompo_matrix[:, sel_compo_idx]\n",
    "print(decompo_matrix_reduced.shape)\n",
    "la.matrix_rank(decompo_matrix_reduced)"
   ]
  },
  {
   "cell_type": "code",
   "execution_count": 18,
   "metadata": {},
   "outputs": [
    {
     "data": {
      "text/plain": [
       "(6156, 300)"
      ]
     },
     "execution_count": 18,
     "metadata": {},
     "output_type": "execute_result"
    }
   ],
   "source": [
    "## Character semantic vector\n",
    "word_kv_idxs = []\n",
    "for word in char_enc.classes_:\n",
    "    word_kv_idxs.append(kv.vocab[word].index)\n",
    "char_ft = kv.vectors_norm[word_kv_idxs, :]\n",
    "char_ft.shape"
   ]
  },
  {
   "cell_type": "markdown",
   "metadata": {},
   "source": [
    "## Component semantic matrix\n",
    "$$\n",
    "C_{k\\times d}: \\textrm{Component semantic matrix, k components $\\times$ d vector size }\\\\\n",
    "Z_{n\\times d}: \\textrm{Character semantic matrix, n characters $\\times$ d vector size }\\\\\n",
    "D_{n\\times k}: \\textrm{Decomposition matrix, n characters $\\times$ k components}\\\\\n",
    "Z = D\\cdot C\\\\\n",
    "C = (D^\\top D)^{-1}D^\\top Z\n",
    "$$"
   ]
  },
  {
   "cell_type": "code",
   "execution_count": 19,
   "metadata": {},
   "outputs": [
    {
     "name": "stdout",
     "output_type": "stream",
     "text": [
      "D, Z:  (6156, 1407) (6156, 300)\n"
     ]
    }
   ],
   "source": [
    "import numpy as np\n",
    "import numpy.linalg as la\n",
    "\n",
    "D = decompo_matrix_reduced\n",
    "Z = char_ft\n",
    "print(\"D, Z: \", D.shape, Z.shape)\n",
    "compo_ft = la.inv(D.T.dot(D)).dot(D.T).dot(Z)"
   ]
  },
  {
   "cell_type": "code",
   "execution_count": 20,
   "metadata": {},
   "outputs": [],
   "source": [
    "Zhat = D.dot(compo_ft)\n",
    "R = Z.dot(Zhat.T)"
   ]
  },
  {
   "cell_type": "code",
   "execution_count": 21,
   "metadata": {},
   "outputs": [],
   "source": [
    "def query_component(compo, is_trad=True):\n",
    "    if is_trad is not None:\n",
    "        compo = compo + (\"_t\" if is_trad else \"_s\")\n",
    "    compo_vec = compo_ft[sel_compo_enc.transform([compo])[0]]\n",
    "    return compo_vec"
   ]
  },
  {
   "cell_type": "code",
   "execution_count": 22,
   "metadata": {},
   "outputs": [
    {
     "data": {
      "text/plain": [
       "[(('而', 0.9840849041938782), ('却', 0.9875600934028625)),\n",
       " (('即', 0.9838416576385498), ('虽', 0.9869415760040283)),\n",
       " (('亦', 0.9832538366317749), ('则', 0.9865677356719971)),\n",
       " (('取', 0.9828312397003174), ('对', 0.9858291149139404)),\n",
       " (('如', 0.9821022748947144), ('说', 0.9856451749801636)),\n",
       " (('也', 0.9820734858512878), ('当', 0.9855595827102661)),\n",
       " (('之', 0.9817055463790894), ('与', 0.9846853017807007)),\n",
       " (('以', 0.9816076159477234), ('贤', 0.9843353629112244)),\n",
       " (('便', 0.981594979763031), ('还', 0.9842792749404907)),\n",
       " (('和', 0.9814806580543518), ('许', 0.9842578768730164))]"
      ]
     },
     "execution_count": 22,
     "metadata": {},
     "output_type": "execute_result"
    }
   ],
   "source": [
    "list(zip(kv.similar_by_vector(query_component(\"又\", is_trad=True)),\n",
    "    kv.similar_by_vector(query_component(\"又\", is_trad=False))))"
   ]
  },
  {
   "cell_type": "code",
   "execution_count": 23,
   "metadata": {},
   "outputs": [
    {
     "data": {
      "text/plain": [
       "'钅'"
      ]
     },
     "execution_count": 23,
     "metadata": {},
     "output_type": "execute_result"
    }
   ],
   "source": [
    "{v: k for k, v in radicals.ts_radicals.items()}[\"金\"]"
   ]
  },
  {
   "cell_type": "code",
   "execution_count": 24,
   "metadata": {},
   "outputs": [
    {
     "data": {
      "text/plain": [
       "False"
      ]
     },
     "execution_count": 24,
     "metadata": {},
     "output_type": "execute_result"
    }
   ],
   "source": [
    "tsvars.is_traditional(\"妻\")"
   ]
  },
  {
   "cell_type": "code",
   "execution_count": 25,
   "metadata": {},
   "outputs": [
    {
     "data": {
      "text/plain": [
       "[(('妹', 0.9858518838882446), ('婶', 0.9854856133460999)),\n",
       " (('媚', 0.9857202768325806), ('嬷', 0.9837477803230286)),\n",
       " (('妻', 0.9856017827987671), ('敫', 0.9828739166259766)),\n",
       " (('姊', 0.9844710826873779), ('嫫', 0.9827786087989807)),\n",
       " (('逅', 0.9835814833641052), ('鐏', 0.9814938306808472)),\n",
       " (('嫂', 0.9832499623298645), ('姘', 0.9814498424530029)),\n",
       " (('婷', 0.9830593466758728), ('祃', 0.981367826461792)),\n",
       " (('綺', 0.9828788638114929), ('齹', 0.9809126257896423)),\n",
       " (('竟', 0.9828314185142517), ('婵', 0.9808992147445679)),\n",
       " (('玔', 0.9827866554260254), ('娆', 0.9808309078216553))]"
      ]
     },
     "execution_count": 25,
     "metadata": {},
     "output_type": "execute_result"
    }
   ],
   "source": [
    "list(zip(kv.similar_by_vector(query_component(\"女\", is_trad=True)),\n",
    "    kv.similar_by_vector(query_component(\"女\", is_trad=False))))"
   ]
  },
  {
   "cell_type": "code",
   "execution_count": 26,
   "metadata": {},
   "outputs": [
    {
     "data": {
      "text/plain": [
       "[(('鉆', 0.9834352135658264), ('熂', 0.9849629998207092)),\n",
       " (('搆', 0.9824538826942444), ('钣', 0.9849522709846497)),\n",
       " (('竉', 0.9824486374855042), ('毂', 0.9833048582077026)),\n",
       " (('鑄', 0.9819265007972717), ('铅', 0.9829593300819397)),\n",
       " (('鋃', 0.981760561466217), ('灮', 0.982614278793335)),\n",
       " (('袗', 0.9815495014190674), ('裎', 0.9825872182846069)),\n",
       " (('犠', 0.9815448522567749), ('铤', 0.9823060035705566)),\n",
       " (('緃', 0.9814175367355347), ('诽', 0.9819009900093079)),\n",
       " (('拑', 0.9813220500946045), ('鐏', 0.9815917611122131)),\n",
       " (('牐', 0.9808732271194458), ('拧', 0.9815613031387329))]"
      ]
     },
     "execution_count": 26,
     "metadata": {},
     "output_type": "execute_result"
    }
   ],
   "source": [
    "list(zip(kv.similar_by_vector(query_component(\"金\", is_trad=True)),\n",
    "    kv.similar_by_vector(query_component(\"钅\", is_trad=False))))"
   ]
  },
  {
   "cell_type": "code",
   "execution_count": 27,
   "metadata": {},
   "outputs": [
    {
     "data": {
      "text/plain": [
       "[(('鉆', 0.9834352135658264), ('熂', 0.9849629998207092)),\n",
       " (('搆', 0.9824538826942444), ('钣', 0.9849522709846497)),\n",
       " (('竉', 0.9824486374855042), ('毂', 0.9833048582077026)),\n",
       " (('鑄', 0.9819265007972717), ('铅', 0.9829593300819397)),\n",
       " (('鋃', 0.981760561466217), ('灮', 0.982614278793335)),\n",
       " (('袗', 0.9815495014190674), ('裎', 0.9825872182846069)),\n",
       " (('犠', 0.9815448522567749), ('铤', 0.9823060035705566)),\n",
       " (('緃', 0.9814175367355347), ('诽', 0.9819009900093079)),\n",
       " (('拑', 0.9813220500946045), ('鐏', 0.9815917611122131)),\n",
       " (('牐', 0.9808732271194458), ('拧', 0.9815613031387329))]"
      ]
     },
     "execution_count": 27,
     "metadata": {},
     "output_type": "execute_result"
    }
   ],
   "source": [
    "list(zip(kv.similar_by_vector(query_component(\"金\", is_trad=True)),\n",
    "    kv.similar_by_vector(query_component(\"钅\", is_trad=False))))"
   ]
  },
  {
   "cell_type": "code",
   "execution_count": 28,
   "metadata": {},
   "outputs": [
    {
     "name": "stdout",
     "output_type": "stream",
     "text": [
      "rois count:  6\n",
      "rois count:  46\n"
     ]
    }
   ],
   "source": [
    "simp_radicals = [x+\"_s\" for x in radicals.ts_radicals.keys()]\n",
    "trad_radicals = [x+\"_t\" for x in radicals.ts_radicals.values()]\n",
    "targets = [(\"又_s\", \"又_t\"), (\"言_s\", \"言_t\"), (\"女_s\", \"女_t\")]\n",
    "\n",
    "rois = []\n",
    "for s, t in targets:\n",
    "    if s in sel_compo_enc.classes_ and \\\n",
    "       t in sel_compo_enc.classes_:\n",
    "        rois += [s, t]\n",
    "print(\"rois count: \", len(rois))\n",
    "for srad, trad in zip(simp_radicals, trad_radicals):\n",
    "    if srad in sel_compo_enc.classes_ and \\\n",
    "       trad in sel_compo_enc.classes_:\n",
    "        rois += [srad, trad]\n",
    "print(\"rois count: \", len(rois))"
   ]
  },
  {
   "cell_type": "code",
   "execution_count": 29,
   "metadata": {},
   "outputs": [],
   "source": [
    "roi_vectors = np.zeros((len(rois), compo_ft.shape[1]), dtype=np.float)\n",
    "for roi_idx, roi_x in enumerate(rois):\n",
    "    roi_vectors[roi_idx] = query_component(roi_x, is_trad=None)"
   ]
  },
  {
   "cell_type": "code",
   "execution_count": 30,
   "metadata": {},
   "outputs": [
    {
     "data": {
      "text/plain": [
       "(46, 300)"
      ]
     },
     "execution_count": 30,
     "metadata": {},
     "output_type": "execute_result"
    }
   ],
   "source": [
    "roi_vectors.shape"
   ]
  },
  {
   "cell_type": "code",
   "execution_count": 31,
   "metadata": {},
   "outputs": [],
   "source": [
    "from sklearn.decomposition import PCA\n",
    "roi_pca = PCA(3)\n",
    "roi_2d = roi_pca.fit_transform(roi_vectors)"
   ]
  },
  {
   "cell_type": "code",
   "execution_count": 32,
   "metadata": {},
   "outputs": [],
   "source": [
    "from matplotlib import font_manager"
   ]
  },
  {
   "cell_type": "code",
   "execution_count": null,
   "metadata": {},
   "outputs": [],
   "source": []
  },
  {
   "cell_type": "code",
   "execution_count": 34,
   "metadata": {},
   "outputs": [
    {
     "data": {
      "text/plain": [
       "<matplotlib.legend.Legend at 0x7fe014d25750>"
      ]
     },
     "execution_count": 34,
     "metadata": {},
     "output_type": "execute_result"
    },
    {
     "data": {
      "image/png": "[encoded data removed]",
      "text/plain": [
       "<Figure size 864x432 with 1 Axes>"
      ]
     },
     "metadata": {
      "needs_background": "light"
     },
     "output_type": "display_data"
    }
   ],
   "source": [
    "import matplotlib.pyplot as plt\n",
    "plt.rcParams[\"font.family\"] = \"HanaMinA\" \n",
    "plt.figure(figsize=(12,6))\n",
    "idx_iter = iter(range(len(rois)))\n",
    "dim_x = 0\n",
    "dim_y = 2\n",
    "for s_idx, t_idx in zip(*([idx_iter]*2)):\n",
    "    s_compo = rois[s_idx].split(\"_\")[0]\n",
    "    t_compo = rois[t_idx].split(\"_\")[0]\n",
    "    \n",
    "    text_args = dict(fontsize=14)\n",
    "    if (rois[s_idx], rois[t_idx]) in targets:\n",
    "        text_args[\"fontsize\"]=20\n",
    "    \n",
    "    plt.text(roi_2d[s_idx, dim_x], roi_2d[s_idx, dim_y], \n",
    "             s_compo, color=\"red\", **text_args)\n",
    "    plt.text(roi_2d[t_idx, dim_x], roi_2d[t_idx, dim_y], \n",
    "             t_compo, color=\"blue\", **text_args)\n",
    "    plt.plot(roi_2d[[s_idx, t_idx], dim_x], roi_2d[[s_idx, t_idx], dim_y], color='#AAAAAA')\n",
    "coord_max = roi_2d.max(axis=0)+0.1\n",
    "coord_min = roi_2d.min(axis=0)-0.1\n",
    "plt.xlim(coord_min[dim_x], coord_max[dim_x])\n",
    "plt.ylim(coord_min[dim_y], coord_max[dim_y])\n",
    "plt.xlabel(f\"PCA-{dim_x}\")\n",
    "plt.ylabel(f\"PCA-{dim_y}\")\n",
    "from matplotlib.patches import Patch\n",
    "h_legends = [Patch(facecolor=\"red\", label=\"simplified\"),\n",
    "             Patch(facecolor=\"blue\", label=\"traditional\")]\n",
    "plt.legend(handles=h_legends, loc=\"upper right\")"
   ]
  },
  {
   "cell_type": "code",
   "execution_count": null,
   "metadata": {},
   "outputs": [],
   "source": []
  },
  {
   "cell_type": "code",
   "execution_count": null,
   "metadata": {},
   "outputs": [],
   "source": []
  }
 ],
 "metadata": {
  "kernelspec": {
   "display_name": "Python 3",
   "language": "python",
   "name": "python3"
  },
  "language_info": {
   "codemirror_mode": {
    "name": "ipython",
    "version": 3
   },
   "file_extension": ".py",
   "mimetype": "text/x-python",
   "name": "python",
   "nbconvert_exporter": "python",
   "pygments_lexer": "ipython3",
   "version": "3.7.4"
  }
 },
 "nbformat": 4,
 "nbformat_minor": 4
}
