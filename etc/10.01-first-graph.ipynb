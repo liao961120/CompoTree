{
 "cells": [
  {
   "cell_type": "code",
   "execution_count": 1,
   "metadata": {},
   "outputs": [],
   "source": [
    "%load_ext autoreload\n",
    "%autoreload 2"
   ]
  },
  {
   "cell_type": "code",
   "execution_count": 2,
   "metadata": {},
   "outputs": [],
   "source": [
    "import sys\n",
    "sys.path.append(\"../src\")"
   ]
  },
  {
   "cell_type": "code",
   "execution_count": 81,
   "metadata": {},
   "outputs": [],
   "source": [
    "from CompoTree import ComponentTree, Radicals, TSVariants, StructureCursor, IDC\n",
    "from CompoTree import OrthoNode"
   ]
  },
  {
   "cell_type": "code",
   "execution_count": 88,
   "metadata": {},
   "outputs": [],
   "source": [
    "ctree = ComponentTree.load()\n",
    "radicals = Radicals.load()\n",
    "tsvars = TSVariants.load()"
   ]
  },
  {
   "cell_type": "code",
   "execution_count": 19,
   "metadata": {},
   "outputs": [
    {
     "data": {
      "text/plain": [
       "('唼', [⿰1唼, ⿱1妾])"
      ]
     },
     "execution_count": 19,
     "metadata": {},
     "output_type": "execute_result"
    }
   ],
   "source": [
    "hit_x = ctree.find(\"女\", bmp_only=True)[2]\n",
    "hit_x"
   ]
  },
  {
   "cell_type": "code",
   "execution_count": 24,
   "metadata": {},
   "outputs": [
    {
     "data": {
      "text/plain": [
       "'女'"
      ]
     },
     "execution_count": 24,
     "metadata": {},
     "output_type": "execute_result"
    }
   ],
   "source": [
    "ctree.select(hit_x[0], hit_x[1])"
   ]
  },
  {
   "cell_type": "code",
   "execution_count": 6,
   "metadata": {},
   "outputs": [],
   "source": [
    "yo_hits = ctree.find(\"又\", max_depth=1, bmp_only=True)"
   ]
  },
  {
   "cell_type": "code",
   "execution_count": 7,
   "metadata": {},
   "outputs": [],
   "source": [
    "yo_hits_simp = [x for x in yo_hits if tsvars.is_simplified(x[0])]"
   ]
  },
  {
   "cell_type": "code",
   "execution_count": 79,
   "metadata": {},
   "outputs": [
    {
     "data": {
      "text/plain": [
       "[<⿰:[<⿱:['廿'][<⿻:口夫>]>]['艮'](GTKV)>, <⿰:[<⿱:['艹'][<⿻:口夫>]>]['艮'](J)>]"
      ]
     },
     "execution_count": 79,
     "metadata": {},
     "output_type": "execute_result"
    }
   ],
   "source": [
    "ctree.query(\"艱\", use_flag=\"all\")"
   ]
  },
  {
   "cell_type": "code",
   "execution_count": 68,
   "metadata": {},
   "outputs": [
    {
     "data": {
      "text/plain": [
       "'𦰩'"
      ]
     },
     "execution_count": 68,
     "metadata": {},
     "output_type": "execute_result"
    }
   ],
   "source": [
    "ctree.select(\"漢\", [StructureCursor(IDC.horz2.value, 1, flag=\"J\")], use_flag=\"all\")"
   ]
  },
  {
   "cell_type": "code",
   "execution_count": 80,
   "metadata": {},
   "outputs": [
    {
     "name": "stdout",
     "output_type": "stream",
     "text": [
      "IDC does not match 雙 [⿰0双]\n"
     ]
    },
    {
     "data": {
      "text/plain": [
       "[('難', '难', '𦰩'),\n",
       " ('艱', '艰', '𦰩'),\n",
       " ('對', '对', <⿱:业𦍌>),\n",
       " ('僅', '仅', '堇'),\n",
       " ('鄧', '邓', '登'),\n",
       " ('觀', '观', '雚'),\n",
       " ('鷄', '鸡', '奚'),\n",
       " ('馭', '驭', '又'),\n",
       " ('戲', '戏', '䖒'),\n",
       " ('歡', '欢', '雚'),\n",
       " ('鳳', '凤', '𩾏'),\n",
       " ('勸', '劝', '雚'),\n",
       " ('敘', '叙', '攵'),\n",
       " ('權', '权', '雚'),\n",
       " ('變', '变', '攵'),\n",
       " ('漢', '汉', '𦰩'),\n",
       " ('聖', '圣', '𦔻'),\n",
       " ('嘆', '叹', '𦰩')]"
      ]
     },
     "execution_count": 80,
     "metadata": {},
     "output_type": "execute_result"
    }
   ],
   "source": [
    "yo_trad_items = []\n",
    "flag_map = {\"難\": \"J\", \"艱\": \"J\", \"漢\": \"J\", \"嘆\": \"J\"}\n",
    "for hit_x in yo_hits_simp:\n",
    "    trad_char = tsvars.convert(hit_x[0])[0]\n",
    "    if hit_x[0] == \"鸡\":\n",
    "        trad_char = \"鷄\"\n",
    "    try:\n",
    "        hit_x[1][0].flag = flag_map.get(trad_char, \"\")     \n",
    "        trad_compo = ctree.select(trad_char, hit_x[1], use_flag=\"all\")\n",
    "        yo_trad_items.append((trad_char, hit_x[0], trad_compo))\n",
    "    except IndexError as ex:\n",
    "        print(str(ex), trad_char, hit_x[1])\n",
    "yo_trad_items"
   ]
  },
  {
   "cell_type": "code",
   "execution_count": 98,
   "metadata": {},
   "outputs": [
    {
     "data": {
      "text/plain": [
       "{'䖒', '又', '堇', '奚', '攵', '登', '雚', '𦔻', '𦰩', '𩾏'}"
      ]
     },
     "execution_count": 98,
     "metadata": {},
     "output_type": "execute_result"
    }
   ],
   "source": [
    "yo_trad_compos = set(x[2] for x in yo_trad_items if isinstance(x[2], str))\n",
    "yo_trad_compos"
   ]
  },
  {
   "cell_type": "code",
   "execution_count": null,
   "metadata": {},
   "outputs": [],
   "source": []
  }
 ],
 "metadata": {
  "kernelspec": {
   "display_name": "Python 3",
   "language": "python",
   "name": "python3"
  },
  "language_info": {
   "codemirror_mode": {
    "name": "ipython",
    "version": 3
   },
   "file_extension": ".py",
   "mimetype": "text/x-python",
   "name": "python",
   "nbconvert_exporter": "python",
   "pygments_lexer": "ipython3",
   "version": "3.8.2"
  }
 },
 "nbformat": 4,
 "nbformat_minor": 4
}
