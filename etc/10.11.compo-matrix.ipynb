{
 "cells": [
  {
   "cell_type": "code",
   "execution_count": 1,
   "metadata": {},
   "outputs": [],
   "source": [
    "%load_ext autoreload\n",
    "%autoreload 2"
   ]
  },
  {
   "cell_type": "code",
   "execution_count": 2,
   "metadata": {},
   "outputs": [],
   "source": [
    "import sys\n",
    "sys.path.append(\"../src\")"
   ]
  },
  {
   "cell_type": "code",
   "execution_count": 3,
   "metadata": {},
   "outputs": [],
   "source": [
    "from CompoTree import ComponentTree, Radicals, TSVariants, CharLexicon"
   ]
  },
  {
   "cell_type": "code",
   "execution_count": 4,
   "metadata": {},
   "outputs": [],
   "source": [
    "ctree = ComponentTree.load()\n",
    "radicals = Radicals.load()\n",
    "tsvars = TSVariants.load()\n",
    "lexicon = CharLexicon.load()"
   ]
  },
  {
   "cell_type": "code",
   "execution_count": 5,
   "metadata": {},
   "outputs": [
    {
     "data": {
      "text/plain": [
       "[['氵'], [<⿰:[<⿱:廿⿻口夫>]['隹'](GTKV)>]]"
      ]
     },
     "execution_count": 5,
     "metadata": {},
     "output_type": "execute_result"
    }
   ],
   "source": [
    "ctree.query(\"灘\", use_flag=\"first\")[0].children"
   ]
  },
  {
   "cell_type": "code",
   "execution_count": 6,
   "metadata": {},
   "outputs": [
    {
     "name": "stdout",
     "output_type": "stream",
     "text": [
      "IDC does not match 雙 [⿰0双]\n"
     ]
    },
    {
     "data": {
      "text/plain": [
       "[('變', '变', '攵'),\n",
       " ('嘆', '叹', '𦰩'),\n",
       " ('權', '权', '雚'),\n",
       " ('勸', '劝', '雚'),\n",
       " ('鳳', '凤', '𩾏'),\n",
       " ('鷄', '鸡', '奚'),\n",
       " ('對', '对', <⿱:业𦍌>),\n",
       " ('歡', '欢', '雚'),\n",
       " ('戲', '戏', '䖒'),\n",
       " ('觀', '观', '雚'),\n",
       " ('艱', '艰', '𦰩'),\n",
       " ('敘', '叙', '攵'),\n",
       " ('難', '难', '𦰩'),\n",
       " ('鄧', '邓', '登'),\n",
       " ('僅', '仅', '堇'),\n",
       " ('聖', '圣', '𦔻'),\n",
       " ('馭', '驭', '又'),\n",
       " ('漢', '汉', '𦰩')]"
      ]
     },
     "execution_count": 6,
     "metadata": {},
     "output_type": "execute_result"
    }
   ],
   "source": [
    "yo_hits = ctree.find(\"又\", max_depth=1, bmp_only=True)\n",
    "yo_hits_simp = [x for x in yo_hits if tsvars.is_simplified(x[0])]\n",
    "yo_trad_items = []\n",
    "for hit_x in yo_hits_simp:\n",
    "    trad_char = tsvars.convert(hit_x[0])[0]\n",
    "    if hit_x[0] == \"鸡\":\n",
    "        trad_char = \"鷄\"\n",
    "    try:\n",
    "        trad_compo = ctree.select(trad_char, hit_x[1], use_flag=\"shortest\")\n",
    "        yo_trad_items.append((trad_char, hit_x[0], trad_compo))\n",
    "    except IndexError as ex:\n",
    "        print(str(ex), trad_char, hit_x[1])\n",
    "yo_trad_items"
   ]
  },
  {
   "cell_type": "code",
   "execution_count": 23,
   "metadata": {},
   "outputs": [],
   "source": [
    "from collections import defaultdict\n",
    "chars_set = set()\n",
    "compo_set = set()\n",
    "decompo_set = set()\n",
    "for item_x in yo_trad_items:\n",
    "    trad_char = item_x[0]\n",
    "    simp_char = item_x[1]\n",
    "    chars_set.add(trad_char)\n",
    "    chars_set.add(simp_char)    \n",
    "    trad_ortho = ctree.query(trad_char, \n",
    "                              max_depth=1, \n",
    "                              use_flag=\"shortest\")[0]\n",
    "    simp_ortho = ctree.query(simp_char,\n",
    "                              max_depth=1,\n",
    "                              use_flag=\"shortest\")[0]\n",
    "    for compo_i in [0, 1]:\n",
    "        if trad_ortho.idc != simp_ortho.idc:\n",
    "            continue\n",
    "        trad_compo = trad_ortho.get_component(compo_i)\n",
    "        simp_compo = simp_ortho.get_component(compo_i)        \n",
    "        compo_set.add(str(trad_compo))\n",
    "        compo_set.add(str(simp_compo))\n",
    "        decompo_set.add((trad_char, str(trad_compo)))        \n",
    "        decompo_set.add((simp_char, str(simp_compo)))\n",
    "        if simp_compo == \"又\" and simp_compo != trad_compo:                                 \n",
    "            trad_neighs = [x[0] for x in \n",
    "                           ctree.find(trad_compo, max_depth=1, \n",
    "                                      use_flag=\"shortest\",\n",
    "                                      bmp_only=True)]\n",
    "            trad_neighs = [x for x in trad_neighs if x in lexicon]\n",
    "            neighs = set(trad_neighs).difference([x[0] for x in yo_trad_items])            \n",
    "            simp_neighs = [tsvars.convert(x)[0] for x in neighs]\n",
    "            neigh_chars = neighs | set(simp_neighs)\n",
    "            chars_set |= neigh_chars            \n",
    "            for neigh_x in neigh_chars:\n",
    "                ortho_x = ctree.query(neigh_x, max_depth=1, use_flag=\"shortest\")[0]\n",
    "                compos_x = set(str(ortho_x.get_component(x)) \n",
    "                                 for x in range(len(ortho_x.children)))\n",
    "                compo_set |= compos_x\n",
    "                decompo_set |= set((neigh_x, x) for x in compos_x)\n",
    "    "
   ]
  },
  {
   "cell_type": "code",
   "execution_count": 24,
   "metadata": {},
   "outputs": [
    {
     "data": {
      "text/plain": [
       "(105, 84, 215)"
      ]
     },
     "execution_count": 24,
     "metadata": {},
     "output_type": "execute_result"
    }
   ],
   "source": [
    "len(chars_set), len(compo_set), len(decompo_set)"
   ]
  },
  {
   "cell_type": "markdown",
   "metadata": {},
   "source": [
    "## Component Matrix"
   ]
  },
  {
   "cell_type": "code",
   "execution_count": 37,
   "metadata": {},
   "outputs": [],
   "source": [
    "import numpy as np\n",
    "from sklearn.preprocessing import LabelEncoder"
   ]
  },
  {
   "cell_type": "code",
   "execution_count": 34,
   "metadata": {},
   "outputs": [
    {
     "data": {
      "text/plain": [
       "LabelEncoder()"
      ]
     },
     "execution_count": 34,
     "metadata": {},
     "output_type": "execute_result"
    }
   ],
   "source": [
    "char_enc = LabelEncoder()\n",
    "compo_enc = LabelEncoder()\n",
    "char_enc.fit(list(chars_set))\n",
    "compo_enc.fit(list(compo_set))"
   ]
  },
  {
   "cell_type": "code",
   "execution_count": 35,
   "metadata": {},
   "outputs": [],
   "source": [
    "n_char = len(char_enc.classes_)\n",
    "n_compo = len(compo_enc.classes_)"
   ]
  },
  {
   "cell_type": "code",
   "execution_count": 38,
   "metadata": {},
   "outputs": [],
   "source": [
    "decompo_matrix = np.zeros((n_char, n_compo), dtype=np.int32)"
   ]
  },
  {
   "cell_type": "code",
   "execution_count": 41,
   "metadata": {},
   "outputs": [
    {
     "data": {
      "text/plain": [
       "('鸛', '鳥')"
      ]
     },
     "execution_count": 41,
     "metadata": {},
     "output_type": "execute_result"
    }
   ],
   "source": [
    "list(decompo_set)[0]"
   ]
  },
  {
   "cell_type": "code",
   "execution_count": 42,
   "metadata": {},
   "outputs": [],
   "source": [
    "for item_x in decompo_set:\n",
    "    char_idx = char_enc.transform([item_x[0]])[0]\n",
    "    compo_idx = compo_enc.transform([item_x[1]])[0]\n",
    "    decompo_matrix[char_idx, compo_idx] = 1"
   ]
  },
  {
   "cell_type": "code",
   "execution_count": 49,
   "metadata": {},
   "outputs": [
    {
     "data": {
      "text/plain": [
       "<matplotlib.image.AxesImage at 0x1cc9d8dea90>"
      ]
     },
     "execution_count": 49,
     "metadata": {},
     "output_type": "execute_result"
    },
    {
     "data": {
      "image/png": "[encoded data removed]",
      "text/plain": [
       "<Figure size 432x288 with 1 Axes>"
      ]
     },
     "metadata": {
      "needs_background": "light"
     },
     "output_type": "display_data"
    }
   ],
   "source": [
    "from matplotlib import pyplot as plt\n",
    "plt.imshow(decompo_matrix, cmap=\"hot\")"
   ]
  },
  {
   "cell_type": "code",
   "execution_count": 50,
   "metadata": {},
   "outputs": [
    {
     "data": {
      "text/plain": [
       "84"
      ]
     },
     "execution_count": 50,
     "metadata": {},
     "output_type": "execute_result"
    }
   ],
   "source": [
    "from numpy import linalg as la\n",
    "la.matrix_rank(decompo_matrix)"
   ]
  },
  {
   "cell_type": "code",
   "execution_count": 51,
   "metadata": {},
   "outputs": [
    {
     "data": {
      "text/plain": [
       "(array([[ 0.        ,  0.        ,  0.        , ...,  0.02541163,\n",
       "         -0.0436212 , -0.03599373],\n",
       "        [-0.        ,  0.        ,  0.        , ..., -0.02541163,\n",
       "          0.0436212 ,  0.03599373],\n",
       "        [-0.        , -0.        ,  0.        , ...,  0.10967355,\n",
       "          0.35384406, -0.00247368],\n",
       "        ...,\n",
       "        [-0.        , -0.        , -0.        , ..., -0.10336757,\n",
       "          0.01629176,  0.00069453],\n",
       "        [-0.        , -0.        , -0.        , ..., -0.0165713 ,\n",
       "         -0.01317802, -0.00218655],\n",
       "        [-0.        , -0.        , -0.        , ...,  0.0165713 ,\n",
       "          0.01317802,  0.00218655]]),\n",
       " array([[-1.        ,  0.        ,  0.        , ...,  0.        ,\n",
       "          0.        ,  0.        ],\n",
       "        [ 0.        , -1.        ,  0.        , ...,  0.        ,\n",
       "          0.        ,  0.        ],\n",
       "        [ 0.        ,  0.        , -1.        , ...,  0.        ,\n",
       "          0.        ,  0.        ],\n",
       "        ...,\n",
       "        [ 0.        ,  0.        ,  0.        , ..., -0.93072517,\n",
       "         -0.32608639,  0.2088086 ],\n",
       "        [ 0.        ,  0.        ,  0.        , ...,  0.        ,\n",
       "         -0.65913835, -0.22872007],\n",
       "        [ 0.        ,  0.        ,  0.        , ...,  0.        ,\n",
       "          0.        ,  0.72025848]]))"
      ]
     },
     "execution_count": 51,
     "metadata": {},
     "output_type": "execute_result"
    }
   ],
   "source": [
    "la.qr(decompo_matrix)"
   ]
  },
  {
   "cell_type": "code",
   "execution_count": null,
   "metadata": {},
   "outputs": [],
   "source": []
  }
 ],
 "metadata": {
  "kernelspec": {
   "display_name": "Python 3",
   "language": "python",
   "name": "python3"
  },
  "language_info": {
   "codemirror_mode": {
    "name": "ipython",
    "version": 3
   },
   "file_extension": ".py",
   "mimetype": "text/x-python",
   "name": "python",
   "nbconvert_exporter": "python",
   "pygments_lexer": "ipython3",
   "version": "3.8.2"
  }
 },
 "nbformat": 4,
 "nbformat_minor": 4
}
