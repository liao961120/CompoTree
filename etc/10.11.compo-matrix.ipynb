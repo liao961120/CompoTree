{
 "cells": [
  {
   "cell_type": "code",
   "execution_count": 1,
   "metadata": {},
   "outputs": [],
   "source": [
    "%load_ext autoreload\n",
    "%autoreload 2"
   ]
  },
  {
   "cell_type": "code",
   "execution_count": 2,
   "metadata": {},
   "outputs": [],
   "source": [
    "import sys\n",
    "sys.path.append(\"../src\")"
   ]
  },
  {
   "cell_type": "code",
   "execution_count": 18,
   "metadata": {},
   "outputs": [],
   "source": [
    "from CompoTree import ComponentTree, Radicals, TSVariants, CharLexicon\n",
    "from gensim.models.keyedvectors import KeyedVectors\n",
    "import numpy as np\n",
    "import numpy.linalg as la"
   ]
  },
  {
   "cell_type": "code",
   "execution_count": 4,
   "metadata": {},
   "outputs": [],
   "source": [
    "\n",
    "kv = KeyedVectors.load(\"../data/fasttext-zh-sw/fasttext-zh-sw.kv\")\n",
    "kv.init_sims()"
   ]
  },
  {
   "cell_type": "code",
   "execution_count": 5,
   "metadata": {},
   "outputs": [],
   "source": [
    "ctree = ComponentTree.load()\n",
    "radicals = Radicals.load()\n",
    "tsvars = TSVariants.load()\n",
    "lexicon = CharLexicon.load()\n"
   ]
  },
  {
   "cell_type": "code",
   "execution_count": 6,
   "metadata": {},
   "outputs": [
    {
     "data": {
      "text/plain": [
       "[['氵'], [<⿰:[<⿱:廿⿻口夫>]['隹'](GTKV)>]]"
      ]
     },
     "execution_count": 6,
     "metadata": {},
     "output_type": "execute_result"
    }
   ],
   "source": [
    "ctree.query(\"灘\", use_flag=\"first\")[0].children"
   ]
  },
  {
   "cell_type": "code",
   "execution_count": 7,
   "metadata": {},
   "outputs": [
    {
     "name": "stdout",
     "output_type": "stream",
     "text": [
      "庾\n"
     ]
    }
   ],
   "source": [
    "for w in lexicon:\n",
    "    print(w)\n",
    "    break"
   ]
  },
  {
   "cell_type": "code",
   "execution_count": 116,
   "metadata": {},
   "outputs": [],
   "source": [
    "from collections import defaultdict\n",
    "chars_set = set()\n",
    "compo_set = set()\n",
    "decompo_set = set()\n",
    "compo_items = set()\n",
    "for word in lexicon:  \n",
    "    if word not in kv.vocab:\n",
    "        continue\n",
    "        \n",
    "    try:\n",
    "        ortho_x = ctree.query(word, \n",
    "                          max_depth=1, \n",
    "                          use_flag=\"shortest\")[0]\n",
    "    except:\n",
    "        print(word)\n",
    "        continue\n",
    "            \n",
    "    if isinstance(ortho_x, str):\n",
    "        compos = [ortho_x]\n",
    "    else:\n",
    "        compos = [str(x) for x in \n",
    "                  ortho_x.components(use_flag=\"shortest\")]\n",
    "        \n",
    "    compo_seq = tuple(sorted(compos))     \n",
    "    if compo_seq not in compo_items and len(compos) == 2:\n",
    "        compo_items.add(compo_seq)\n",
    "    else:        \n",
    "        continue\n",
    "    \n",
    "    chars_set.add(word)    \n",
    "    if tsvars.is_simplified(word):\n",
    "        compos = [x+\"_s\" for x in compos]\n",
    "    else:\n",
    "        compos = [x+\"_t\" for x in compos]\n",
    "       \n",
    "    compo_set |= set(compos)\n",
    "    decompo_set |= set((word, str(compo_x))\n",
    "                       for compo_x in compos)    "
   ]
  },
  {
   "cell_type": "code",
   "execution_count": 117,
   "metadata": {},
   "outputs": [
    {
     "data": {
      "text/plain": [
       "(6156, 2498, 12292)"
      ]
     },
     "execution_count": 117,
     "metadata": {},
     "output_type": "execute_result"
    }
   ],
   "source": [
    "len(chars_set), len(compo_set), len(decompo_set)"
   ]
  },
  {
   "cell_type": "code",
   "execution_count": 118,
   "metadata": {},
   "outputs": [
    {
     "data": {
      "text/plain": [
       "[('丁', '一_t'),\n",
       " ('丁', '亅_t'),\n",
       " ('七', '㇀_t'),\n",
       " ('七', '乚_t'),\n",
       " ('万', '一_s'),\n",
       " ('万', '⿰丿𠃌_s'),\n",
       " ('三', '一_t'),\n",
       " ('三', '二_t'),\n",
       " ('上', '⺊_t'),\n",
       " ('上', '一_t'),\n",
       " ('下', '一_t'),\n",
       " ('下', '卜_t'),\n",
       " ('丕', '一_t'),\n",
       " ('丕', '不_t'),\n",
       " ('丙', '一_t'),\n",
       " ('丙', '内_t'),\n",
       " ('丛', '从_s'),\n",
       " ('丛', '一_s'),\n",
       " ('丝', '一_s'),\n",
       " ('丝', '⿰②②_s')]"
      ]
     },
     "execution_count": 118,
     "metadata": {},
     "output_type": "execute_result"
    }
   ],
   "source": [
    "sorted(list(decompo_set), key=lambda x: x[0])[:20]"
   ]
  },
  {
   "cell_type": "markdown",
   "metadata": {},
   "source": [
    "## Component Matrix"
   ]
  },
  {
   "cell_type": "code",
   "execution_count": 119,
   "metadata": {},
   "outputs": [],
   "source": [
    "import numpy as np\n",
    "from sklearn.preprocessing import LabelEncoder"
   ]
  },
  {
   "cell_type": "code",
   "execution_count": 120,
   "metadata": {},
   "outputs": [
    {
     "data": {
      "text/plain": [
       "LabelEncoder()"
      ]
     },
     "execution_count": 120,
     "metadata": {},
     "output_type": "execute_result"
    }
   ],
   "source": [
    "char_enc = LabelEncoder()\n",
    "compo_enc = LabelEncoder()\n",
    "char_enc.fit(list(chars_set))\n",
    "compo_enc.fit(list(compo_set))"
   ]
  },
  {
   "cell_type": "code",
   "execution_count": 121,
   "metadata": {},
   "outputs": [],
   "source": [
    "n_char = len(char_enc.classes_)\n",
    "n_compo = len(compo_enc.classes_)"
   ]
  },
  {
   "cell_type": "code",
   "execution_count": 122,
   "metadata": {},
   "outputs": [
    {
     "data": {
      "text/plain": [
       "(6156, 2498)"
      ]
     },
     "execution_count": 122,
     "metadata": {},
     "output_type": "execute_result"
    }
   ],
   "source": [
    "decompo_matrix = np.zeros((n_char, n_compo), dtype=np.int32)\n",
    "decompo_matrix.shape"
   ]
  },
  {
   "cell_type": "code",
   "execution_count": 123,
   "metadata": {},
   "outputs": [],
   "source": [
    "for item_x in decompo_set:\n",
    "    char_idx = char_enc.transform([item_x[0]])[0]\n",
    "    compo_idx = compo_enc.transform([item_x[1]])[0]\n",
    "    decompo_matrix[char_idx, compo_idx] = 1"
   ]
  },
  {
   "cell_type": "code",
   "execution_count": 124,
   "metadata": {},
   "outputs": [
    {
     "data": {
      "text/plain": [
       "LabelEncoder()"
      ]
     },
     "execution_count": 124,
     "metadata": {},
     "output_type": "execute_result"
    }
   ],
   "source": [
    "aa = LabelEncoder()\n",
    "aa.fit([\"a\", \"b\", \"c\"])"
   ]
  },
  {
   "cell_type": "code",
   "execution_count": 125,
   "metadata": {},
   "outputs": [
    {
     "name": "stdout",
     "output_type": "stream",
     "text": [
      "(6156, 1408)\n"
     ]
    },
    {
     "data": {
      "text/plain": [
       "1408"
      ]
     },
     "execution_count": 125,
     "metadata": {},
     "output_type": "execute_result"
    }
   ],
   "source": [
    "sel_compo_idx = decompo_matrix.sum(axis=0)>1\n",
    "sel_compo_enc = LabelEncoder()\n",
    "sel_compo_enc.fit(compo_enc.classes_[sel_compo_idx])\n",
    "decompo_matrix_reduced = decompo_matrix[:, sel_compo_idx]\n",
    "print(decompo_matrix_reduced.shape)\n",
    "la.matrix_rank(decompo_matrix_reduced)"
   ]
  },
  {
   "cell_type": "code",
   "execution_count": 126,
   "metadata": {},
   "outputs": [
    {
     "data": {
      "text/plain": [
       "(6156, 300)"
      ]
     },
     "execution_count": 126,
     "metadata": {},
     "output_type": "execute_result"
    }
   ],
   "source": [
    "## Character semantic vector\n",
    "word_kv_idxs = []\n",
    "for word in char_enc.classes_:\n",
    "    word_kv_idxs.append(kv.vocab[word].index)\n",
    "char_ft = kv.vectors_norm[word_kv_idxs, :]\n",
    "char_ft.shape"
   ]
  },
  {
   "cell_type": "markdown",
   "metadata": {},
   "source": [
    "## Component semantic matrix\n",
    "$$\n",
    "C_{k\\times d}: \\textrm{Component semantic matrix, k components $\\times$ d vector size }\\\\\n",
    "Z_{n\\times d}: \\textrm{Character semantic matrix, n characters $\\times$ d vector size }\\\\\n",
    "D_{n\\times k}: \\textrm{Decomposition matrix, n characters $\\times$ k components}\\\\\n",
    "Z = D\\cdot C\\\\\n",
    "C = (D^\\top D)^{-1}D^\\top Z\n",
    "$$"
   ]
  },
  {
   "cell_type": "code",
   "execution_count": 127,
   "metadata": {},
   "outputs": [
    {
     "name": "stdout",
     "output_type": "stream",
     "text": [
      "D, Z:  (6156, 1408) (6156, 300)\n"
     ]
    }
   ],
   "source": [
    "import numpy as np\n",
    "import numpy.linalg as la\n",
    "\n",
    "D = decompo_matrix_reduced\n",
    "Z = char_ft\n",
    "print(\"D, Z: \", D.shape, Z.shape)\n",
    "compo_ft = la.inv(D.T.dot(D)).dot(D.T).dot(Z)"
   ]
  },
  {
   "cell_type": "code",
   "execution_count": 128,
   "metadata": {},
   "outputs": [],
   "source": [
    "Zhat = D.dot(compo_ft)\n",
    "R = Z.dot(Zhat.T)"
   ]
  },
  {
   "cell_type": "code",
   "execution_count": 129,
   "metadata": {},
   "outputs": [],
   "source": [
    "def query_component(compo, is_trad=True):\n",
    "    if is_trad is not None:\n",
    "        compo = compo + (\"_t\" if is_trad else \"_s\")\n",
    "    compo_vec = compo_ft[sel_compo_enc.transform([compo])[0]]\n",
    "    return compo_vec"
   ]
  },
  {
   "cell_type": "code",
   "execution_count": 130,
   "metadata": {},
   "outputs": [
    {
     "data": {
      "text/plain": [
       "[(('而', 0.9840445518493652), ('却', 0.9878564476966858)),\n",
       " (('即', 0.9837239980697632), ('虽', 0.9870455861091614)),\n",
       " (('亦', 0.983209490776062), ('则', 0.986748218536377)),\n",
       " (('取', 0.9828585982322693), ('对', 0.986029863357544)),\n",
       " (('如', 0.982053279876709), ('说', 0.9857946038246155)),\n",
       " (('也', 0.9820156097412109), ('当', 0.9856951236724854)),\n",
       " (('之', 0.981647253036499), ('与', 0.9848954677581787)),\n",
       " (('便', 0.9816346168518066), ('还', 0.9844778776168823)),\n",
       " (('以', 0.981562614440918), ('应', 0.9844067096710205)),\n",
       " (('和', 0.9813511967658997), ('许', 0.984147310256958))]"
      ]
     },
     "execution_count": 130,
     "metadata": {},
     "output_type": "execute_result"
    }
   ],
   "source": [
    "list(zip(kv.similar_by_vector(query_component(\"又\", is_trad=True)),\n",
    "    kv.similar_by_vector(query_component(\"又\", is_trad=False))))"
   ]
  },
  {
   "cell_type": "code",
   "execution_count": 131,
   "metadata": {},
   "outputs": [
    {
     "data": {
      "text/plain": [
       "'钅'"
      ]
     },
     "execution_count": 131,
     "metadata": {},
     "output_type": "execute_result"
    }
   ],
   "source": [
    "{v: k for k, v in radicals.ts_radicals.items()}[\"金\"]"
   ]
  },
  {
   "cell_type": "code",
   "execution_count": 132,
   "metadata": {},
   "outputs": [
    {
     "data": {
      "text/plain": [
       "False"
      ]
     },
     "execution_count": 132,
     "metadata": {},
     "output_type": "execute_result"
    }
   ],
   "source": [
    "tsvars.is_traditional(\"妻\")"
   ]
  },
  {
   "cell_type": "code",
   "execution_count": 133,
   "metadata": {},
   "outputs": [
    {
     "data": {
      "text/plain": [
       "[(('妹', 0.9858864545822144), ('婶', 0.9854882955551147)),\n",
       " (('媚', 0.9857301115989685), ('嬷', 0.9837362766265869)),\n",
       " (('妻', 0.9856153726577759), ('敫', 0.9828793406486511)),\n",
       " (('姊', 0.9844862818717957), ('嫫', 0.9827746748924255)),\n",
       " (('逅', 0.9835457801818848), ('鐏', 0.9814985394477844)),\n",
       " (('嫂', 0.9832426905632019), ('姘', 0.9814596772193909)),\n",
       " (('婷', 0.9830869436264038), ('祃', 0.9813715815544128)),\n",
       " (('綺', 0.9828891754150391), ('齹', 0.9809141159057617)),\n",
       " (('竟', 0.9828566908836365), ('婵', 0.9809099435806274)),\n",
       " (('玔', 0.9827824234962463), ('娆', 0.9808386564254761))]"
      ]
     },
     "execution_count": 133,
     "metadata": {},
     "output_type": "execute_result"
    }
   ],
   "source": [
    "list(zip(kv.similar_by_vector(query_component(\"女\", is_trad=True)),\n",
    "    kv.similar_by_vector(query_component(\"女\", is_trad=False))))"
   ]
  },
  {
   "cell_type": "code",
   "execution_count": 134,
   "metadata": {},
   "outputs": [
    {
     "data": {
      "text/plain": [
       "[(('鉆', 0.9833903908729553), ('熂', 0.9849662780761719)),\n",
       " (('搆', 0.9824697971343994), ('钣', 0.9849618077278137)),\n",
       " (('竉', 0.9824055433273315), ('毂', 0.9832983016967773)),\n",
       " (('鑄', 0.9819469451904297), ('铅', 0.9829491376876831)),\n",
       " (('鋃', 0.9817515015602112), ('灮', 0.982629656791687)),\n",
       " (('犠', 0.981558084487915), ('裎', 0.9826133251190186)),\n",
       " (('袗', 0.9814862012863159), ('铤', 0.9823036193847656)),\n",
       " (('緃', 0.9813901782035828), ('诽', 0.9818956851959229)),\n",
       " (('拑', 0.9813131093978882), ('鐏', 0.981605589389801)),\n",
       " (('牐', 0.9808429479598999), ('拧', 0.9815644025802612))]"
      ]
     },
     "execution_count": 134,
     "metadata": {},
     "output_type": "execute_result"
    }
   ],
   "source": [
    "list(zip(kv.similar_by_vector(query_component(\"金\", is_trad=True)),\n",
    "    kv.similar_by_vector(query_component(\"钅\", is_trad=False))))"
   ]
  },
  {
   "cell_type": "code",
   "execution_count": 135,
   "metadata": {},
   "outputs": [
    {
     "data": {
      "text/plain": [
       "[(('鉆', 0.9833903908729553), ('熂', 0.9849662780761719)),\n",
       " (('搆', 0.9824697971343994), ('钣', 0.9849618077278137)),\n",
       " (('竉', 0.9824055433273315), ('毂', 0.9832983016967773)),\n",
       " (('鑄', 0.9819469451904297), ('铅', 0.9829491376876831)),\n",
       " (('鋃', 0.9817515015602112), ('灮', 0.982629656791687)),\n",
       " (('犠', 0.981558084487915), ('裎', 0.9826133251190186)),\n",
       " (('袗', 0.9814862012863159), ('铤', 0.9823036193847656)),\n",
       " (('緃', 0.9813901782035828), ('诽', 0.9818956851959229)),\n",
       " (('拑', 0.9813131093978882), ('鐏', 0.981605589389801)),\n",
       " (('牐', 0.9808429479598999), ('拧', 0.9815644025802612))]"
      ]
     },
     "execution_count": 135,
     "metadata": {},
     "output_type": "execute_result"
    }
   ],
   "source": [
    "list(zip(kv.similar_by_vector(query_component(\"金\", is_trad=True)),\n",
    "    kv.similar_by_vector(query_component(\"钅\", is_trad=False))))"
   ]
  },
  {
   "cell_type": "code",
   "execution_count": 136,
   "metadata": {},
   "outputs": [
    {
     "name": "stdout",
     "output_type": "stream",
     "text": [
      "rois count:  6\n",
      "rois count:  46\n"
     ]
    }
   ],
   "source": [
    "simp_radicals = [x+\"_s\" for x in radicals.ts_radicals.keys()]\n",
    "trad_radicals = [x+\"_t\" for x in radicals.ts_radicals.values()]\n",
    "targets = [(\"又_s\", \"又_t\"), (\"言_s\", \"言_t\"), (\"女_s\", \"女_t\")]\n",
    "\n",
    "rois = []\n",
    "for s, t in targets:\n",
    "    if s in sel_compo_enc.classes_ and \\\n",
    "       t in sel_compo_enc.classes_:\n",
    "        rois += [s, t]\n",
    "print(\"rois count: \", len(rois))\n",
    "for srad, trad in zip(simp_radicals, trad_radicals):\n",
    "    if srad in sel_compo_enc.classes_ and \\\n",
    "       trad in sel_compo_enc.classes_:\n",
    "        rois += [srad, trad]\n",
    "print(\"rois count: \", len(rois))"
   ]
  },
  {
   "cell_type": "code",
   "execution_count": 137,
   "metadata": {},
   "outputs": [],
   "source": [
    "roi_vectors = np.zeros((len(rois), compo_ft.shape[1]), dtype=np.float)\n",
    "for roi_idx, roi_x in enumerate(rois):\n",
    "    roi_vectors[roi_idx] = query_component(roi_x, is_trad=None)"
   ]
  },
  {
   "cell_type": "code",
   "execution_count": 138,
   "metadata": {},
   "outputs": [
    {
     "data": {
      "text/plain": [
       "(46, 300)"
      ]
     },
     "execution_count": 138,
     "metadata": {},
     "output_type": "execute_result"
    }
   ],
   "source": [
    "roi_vectors.shape"
   ]
  },
  {
   "cell_type": "code",
   "execution_count": 152,
   "metadata": {},
   "outputs": [],
   "source": [
    "from sklearn.decomposition import PCA\n",
    "roi_pca = PCA(3)\n",
    "roi_2d = roi_pca.fit_transform(roi_vectors)"
   ]
  },
  {
   "cell_type": "code",
   "execution_count": 156,
   "metadata": {},
   "outputs": [
    {
     "data": {
      "text/plain": [
       "<matplotlib.legend.Legend at 0x233e35f5d60>"
      ]
     },
     "execution_count": 156,
     "metadata": {},
     "output_type": "execute_result"
    },
    {
     "data": {
      "image/png": "[encoded data removed]",
      "text/plain": [
       "<Figure size 864x432 with 1 Axes>"
      ]
     },
     "metadata": {
      "needs_background": "light"
     },
     "output_type": "display_data"
    }
   ],
   "source": [
    "import matplotlib.pyplot as plt\n",
    "plt.rcParams[\"font.family\"] = \"Microsoft YaHei\" \n",
    "plt.figure(figsize=(12,6))\n",
    "idx_iter = iter(range(len(rois)))\n",
    "dim_x = 0\n",
    "dim_y = 2\n",
    "for s_idx, t_idx in zip(*([idx_iter]*2)):\n",
    "    s_compo = rois[s_idx].split(\"_\")[0]\n",
    "    t_compo = rois[t_idx].split(\"_\")[0]\n",
    "    \n",
    "    text_args = dict(fontsize=12)\n",
    "    if (rois[s_idx], rois[t_idx]) in targets:\n",
    "        text_args[\"fontsize\"]=16\n",
    "    \n",
    "    plt.text(roi_2d[s_idx, dim_x], roi_2d[s_idx, dim_y], \n",
    "             s_compo, color=\"red\", **text_args)\n",
    "    plt.text(roi_2d[t_idx, dim_x], roi_2d[t_idx, dim_y], \n",
    "             t_compo, color=\"blue\", **text_args)\n",
    "    plt.plot(roi_2d[[s_idx, t_idx], dim_x], roi_2d[[s_idx, t_idx], dim_y], color='#AAAAAA')\n",
    "coord_max = roi_2d.max(axis=0)+0.1\n",
    "coord_min = roi_2d.min(axis=0)-0.1\n",
    "plt.xlim(coord_min[dim_x], coord_max[dim_x])\n",
    "plt.ylim(coord_min[dim_y], coord_max[dim_y])\n",
    "plt.xlabel(f\"PCA-{dim_x}\")\n",
    "plt.ylabel(f\"PCA-{dim_y}\")\n",
    "from matplotlib.patches import Patch\n",
    "h_legends = [Patch(facecolor=\"red\", label=\"simplified\"),\n",
    "             Patch(facecolor=\"blue\", label=\"traditional\")]\n",
    "plt.legend(handles=h_legends, loc=\"upper right\")"
   ]
  },
  {
   "cell_type": "code",
   "execution_count": null,
   "metadata": {},
   "outputs": [],
   "source": []
  },
  {
   "cell_type": "code",
   "execution_count": null,
   "metadata": {},
   "outputs": [],
   "source": []
  }
 ],
 "metadata": {
  "kernelspec": {
   "display_name": "Python 3",
   "language": "python",
   "name": "python3"
  },
  "language_info": {
   "codemirror_mode": {
    "name": "ipython",
    "version": 3
   },
   "file_extension": ".py",
   "mimetype": "text/x-python",
   "name": "python",
   "nbconvert_exporter": "python",
   "pygments_lexer": "ipython3",
   "version": "3.8.2"
  }
 },
 "nbformat": 4,
 "nbformat_minor": 4
}
