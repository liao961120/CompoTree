{
 "cells": [
  {
   "cell_type": "code",
   "execution_count": 1,
   "metadata": {},
   "outputs": [],
   "source": [
    "%load_ext autoreload\n",
    "%autoreload 2"
   ]
  },
  {
   "cell_type": "code",
   "execution_count": 2,
   "metadata": {},
   "outputs": [],
   "source": [
    "import sys\n",
    "sys.path.append(\"../src\")"
   ]
  },
  {
   "cell_type": "code",
   "execution_count": 3,
   "metadata": {},
   "outputs": [],
   "source": [
    "from CompoTree import ComponentTree, Radicals, TSVariants, CharLexicon"
   ]
  },
  {
   "cell_type": "code",
   "execution_count": 4,
   "metadata": {},
   "outputs": [],
   "source": [
    "ctree = ComponentTree.load()\n",
    "radicals = Radicals.load()\n",
    "tsvars = TSVariants.load()\n",
    "lexicon = CharLexicon.load()"
   ]
  },
  {
   "cell_type": "code",
   "execution_count": 25,
   "metadata": {},
   "outputs": [
    {
     "data": {
      "text/plain": [
       "[['氵'], [<⿰:[<⿱:廿⿻口夫>]['隹'](GTKV)>]]"
      ]
     },
     "execution_count": 25,
     "metadata": {},
     "output_type": "execute_result"
    }
   ],
   "source": [
    "ctree.query(\"灘\", use_flag=\"first\")[0].children"
   ]
  },
  {
   "cell_type": "code",
   "execution_count": 27,
   "metadata": {},
   "outputs": [
    {
     "name": "stdout",
     "output_type": "stream",
     "text": [
      "IDC does not match 雙 [⿰0双]\n"
     ]
    },
    {
     "data": {
      "text/plain": [
       "[('嘆', '叹', '𦰩'),\n",
       " ('鳳', '凤', '𩾏'),\n",
       " ('對', '对', <⿱:业𦍌>),\n",
       " ('戲', '戏', '䖒'),\n",
       " ('歡', '欢', '雚'),\n",
       " ('聖', '圣', '𦔻'),\n",
       " ('漢', '汉', '𦰩'),\n",
       " ('敘', '叙', '攵'),\n",
       " ('鄧', '邓', '登'),\n",
       " ('難', '难', '𦰩'),\n",
       " ('鷄', '鸡', '奚'),\n",
       " ('變', '变', '攵'),\n",
       " ('艱', '艰', '𦰩'),\n",
       " ('僅', '仅', '堇'),\n",
       " ('勸', '劝', '雚'),\n",
       " ('觀', '观', '雚'),\n",
       " ('權', '权', '雚'),\n",
       " ('馭', '驭', '又')]"
      ]
     },
     "execution_count": 27,
     "metadata": {},
     "output_type": "execute_result"
    }
   ],
   "source": [
    "yo_hits = ctree.find(\"又\", max_depth=1, bmp_only=True)\n",
    "yo_hits_simp = [x for x in yo_hits if tsvars.is_simplified(x[0])]\n",
    "yo_trad_items = []\n",
    "flag_map = {\"難\": \"J\", \"艱\": \"J\", \"漢\": \"J\", \"嘆\": \"J\"}\n",
    "for hit_x in yo_hits_simp:\n",
    "    trad_char = tsvars.convert(hit_x[0])[0]\n",
    "    if hit_x[0] == \"鸡\":\n",
    "        trad_char = \"鷄\"\n",
    "    try:\n",
    "        # hit_x[1][0].flag = flag_map.get(trad_char, \"\")     \n",
    "        trad_compo = ctree.select(trad_char, hit_x[1], use_flag=\"shortest\")\n",
    "        yo_trad_items.append((trad_char, hit_x[0], trad_compo))\n",
    "    except IndexError as ex:\n",
    "        print(str(ex), trad_char, hit_x[1])\n",
    "yo_trad_items"
   ]
  },
  {
   "cell_type": "markdown",
   "metadata": {},
   "source": [
    "* compose: component $\\rightarrow$ [characters]\n",
    "* convert-char: character $\\rightarrow$ [characters]\n",
    "* decompose: character $\\rightarrow$ [component]\n",
    "* (*) convert-compo: component $\\rightarrow$ [components], though it is defined when the component is a radical"
   ]
  },
  {
   "cell_type": "code",
   "execution_count": null,
   "metadata": {},
   "outputs": [],
   "source": [
    "from collections import defaultdict\n",
    "flag_map = {\"難\": \"J\", \"艱\": \"J\", \"漢\": \"J\", \"嘆\": \"J\"}\n",
    "nodes = defaultdict(set)\n",
    "edges = set()\n",
    "for item_x in yo_trad_items:\n",
    "    trad_char = item_x[0]\n",
    "    simp_char = item_x[1]\n",
    "    nodes[\"trad\"].add(trad_char)\n",
    "    nodes[\"simp\"].add(simp_char)\n",
    "    # edges.add((trad_char, simp_char))\n",
    "    trad_ortho = ctree.query(trad_char, \n",
    "                              max_depth=1, \n",
    "                              use_flag=flag_map.get(trad_char, \"\"))[0]\n",
    "    simp_ortho = ctree.query(simp_char,\n",
    "                              max_depth=1,\n",
    "                              use_flag=flag_map.get(simp_char, \"\"))[0]\n",
    "    for compo_i in [0, 1]:\n",
    "        if trad_ortho.idc != simp_ortho.idc:\n",
    "            continue\n",
    "        trad_compo = trad_ortho.get_component(compo_i)\n",
    "        simp_compo = simp_ortho.get_component(compo_i)        \n",
    "        nodes[\"compo\"].add(str(trad_compo))\n",
    "        nodes[\"compo\"].add(str(simp_compo))\n",
    "        edges.add((trad_char, str(trad_compo)))\n",
    "        edges.add((simp_char, str(simp_compo)))\n",
    "        if simp_compo == \"又\" and simp_compo != trad_compo:         \n",
    "            edges.add((str(trad_compo), str(simp_compo)))\n",
    "            \n",
    "            trad_neighs = [x[0] for x in \n",
    "                           ctree.find(trad_compo, max_depth=1, \n",
    "                                      use_flag=flag_map.get(simp_char, \"\"),\n",
    "                                      bmp_only=True)]\n",
    "            trad_neighs = [x for x in trad_neighs if x in char_list]\n",
    "            neighs = set(trad_neighs).difference([x[0] for x in yo_trad_items])            \n",
    "            simp_neighs = [tsvars.convert(x)[0] for x in neighs]\n",
    "            nodes[\"trad_neighs\"] |= neighs\n",
    "            nodes[\"simp_neighs\"] |= set(simp_neighs)\n",
    "            # edges |= set(((trad_char, neigh_x) for neigh_x in neighs))\n",
    "            edges |= set(((neigh_x, trad_compo) for neigh_x in neighs))\n",
    "            edges |= set(((neigh_t, neigh_s) for neigh_t, neigh_s in zip(neighs, simp_neighs)))\n",
    "        \n",
    "# ctree.query(yo_trad_items[0][0], max_depth=1)[0].leaf_components()"
   ]
  }
 ],
 "metadata": {
  "kernelspec": {
   "display_name": "Python 3",
   "language": "python",
   "name": "python3"
  },
  "language_info": {
   "codemirror_mode": {
    "name": "ipython",
    "version": 3
   },
   "file_extension": ".py",
   "mimetype": "text/x-python",
   "name": "python",
   "nbconvert_exporter": "python",
   "pygments_lexer": "ipython3",
   "version": "3.8.2"
  }
 },
 "nbformat": 4,
 "nbformat_minor": 4
}
