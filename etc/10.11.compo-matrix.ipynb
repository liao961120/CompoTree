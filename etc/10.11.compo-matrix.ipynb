{
 "cells": [
  {
   "cell_type": "code",
   "execution_count": 1,
   "metadata": {},
   "outputs": [],
   "source": [
    "%load_ext autoreload\n",
    "%autoreload 2"
   ]
  },
  {
   "cell_type": "code",
   "execution_count": 2,
   "metadata": {},
   "outputs": [],
   "source": [
    "import sys\n",
    "sys.path.append(\"../src\")"
   ]
  },
  {
   "cell_type": "code",
   "execution_count": 3,
   "metadata": {},
   "outputs": [],
   "source": [
    "from CompoTree import ComponentTree, Radicals, TSVariants, CharLexicon"
   ]
  },
  {
   "cell_type": "code",
   "execution_count": 96,
   "metadata": {},
   "outputs": [],
   "source": [
    "from gensim.models.keyedvectors import KeyedVectors\n",
    "kv = KeyedVectors.load(\"../data/fasttext-zh-sw/fasttext-zh-sw.kv\")\n",
    "kv.init_sims()"
   ]
  },
  {
   "cell_type": "code",
   "execution_count": 61,
   "metadata": {},
   "outputs": [],
   "source": [
    "ctree = ComponentTree.load()\n",
    "radicals = Radicals.load()\n",
    "tsvars = TSVariants.load()\n",
    "lexicon = CharLexicon.load()\n"
   ]
  },
  {
   "cell_type": "code",
   "execution_count": 62,
   "metadata": {},
   "outputs": [
    {
     "data": {
      "text/plain": [
       "[['氵'], [<⿰:[<⿱:廿⿻口夫>]['隹'](GTKV)>]]"
      ]
     },
     "execution_count": 62,
     "metadata": {},
     "output_type": "execute_result"
    }
   ],
   "source": [
    "ctree.query(\"灘\", use_flag=\"first\")[0].children"
   ]
  },
  {
   "cell_type": "code",
   "execution_count": 63,
   "metadata": {},
   "outputs": [
    {
     "name": "stdout",
     "output_type": "stream",
     "text": [
      "蹑\n"
     ]
    }
   ],
   "source": [
    "for w in lexicon:\n",
    "    print(w)\n",
    "    break"
   ]
  },
  {
   "cell_type": "code",
   "execution_count": 146,
   "metadata": {},
   "outputs": [],
   "source": [
    "from collections import defaultdict\n",
    "chars_set = set()\n",
    "compo_set = set()\n",
    "decompo_set = set()\n",
    "compo_items = set()\n",
    "for word in lexicon:  \n",
    "    if word not in kv.vocab:\n",
    "        continue\n",
    "        \n",
    "    try:\n",
    "        ortho_x = ctree.query(word, \n",
    "                          max_depth=1, \n",
    "                          use_flag=\"shortest\")[0]\n",
    "    except:\n",
    "        print(word)\n",
    "        continue\n",
    "            \n",
    "    if isinstance(ortho_x, str):\n",
    "        compos = [ortho_x]\n",
    "    else:\n",
    "        compos = [str(x) for x in \n",
    "                  ortho_x.components(use_flag=\"shortest\")]\n",
    "        \n",
    "    compo_seq = tuple(sorted(compos))     \n",
    "    if compo_seq not in compo_items and len(compos) == 2:\n",
    "        compo_items.add(compo_seq)\n",
    "    else:        \n",
    "        continue\n",
    "    \n",
    "    chars_set.add(word)    \n",
    "    if tsvars.is_traditional(word):\n",
    "        compos = [x+\"_t\" for x in compos]\n",
    "    else:\n",
    "        compos = [x+\"_s\" for x in compos]\n",
    "       \n",
    "    compo_set |= set(compos)\n",
    "    decompo_set |= set((word, str(compo_x))\n",
    "                       for compo_x in compos)    "
   ]
  },
  {
   "cell_type": "code",
   "execution_count": 132,
   "metadata": {},
   "outputs": [
    {
     "data": {
      "text/plain": [
       "(6156, 2561, 12292)"
      ]
     },
     "execution_count": 132,
     "metadata": {},
     "output_type": "execute_result"
    }
   ],
   "source": [
    "len(chars_set), len(compo_set), len(decompo_set)"
   ]
  },
  {
   "cell_type": "code",
   "execution_count": 133,
   "metadata": {},
   "outputs": [
    {
     "data": {
      "text/plain": [
       "[('丁', '亅_s'),\n",
       " ('丁', '一_s'),\n",
       " ('七', '乚_s'),\n",
       " ('七', '㇀_s'),\n",
       " ('万', '一_s'),\n",
       " ('万', '⿰丿𠃌_s'),\n",
       " ('三', '一_s'),\n",
       " ('三', '二_s'),\n",
       " ('上', '一_s'),\n",
       " ('上', '⺊_s'),\n",
       " ('下', '一_s'),\n",
       " ('下', '卜_s'),\n",
       " ('丕', '一_s'),\n",
       " ('丕', '不_s'),\n",
       " ('丙', '一_s'),\n",
       " ('丙', '内_s'),\n",
       " ('丛', '一_s'),\n",
       " ('丛', '从_s'),\n",
       " ('丝', '一_s'),\n",
       " ('丝', '⿰②②_s')]"
      ]
     },
     "execution_count": 133,
     "metadata": {},
     "output_type": "execute_result"
    }
   ],
   "source": [
    "sorted(list(decompo_set), key=lambda x: x[0])[:20]"
   ]
  },
  {
   "cell_type": "markdown",
   "metadata": {},
   "source": [
    "## Component Matrix"
   ]
  },
  {
   "cell_type": "code",
   "execution_count": 134,
   "metadata": {},
   "outputs": [],
   "source": [
    "import numpy as np\n",
    "from sklearn.preprocessing import LabelEncoder"
   ]
  },
  {
   "cell_type": "code",
   "execution_count": 135,
   "metadata": {},
   "outputs": [
    {
     "data": {
      "text/plain": [
       "LabelEncoder()"
      ]
     },
     "execution_count": 135,
     "metadata": {},
     "output_type": "execute_result"
    }
   ],
   "source": [
    "char_enc = LabelEncoder()\n",
    "compo_enc = LabelEncoder()\n",
    "char_enc.fit(list(chars_set))\n",
    "compo_enc.fit(list(compo_set))"
   ]
  },
  {
   "cell_type": "code",
   "execution_count": 136,
   "metadata": {},
   "outputs": [],
   "source": [
    "n_char = len(char_enc.classes_)\n",
    "n_compo = len(compo_enc.classes_)"
   ]
  },
  {
   "cell_type": "code",
   "execution_count": 137,
   "metadata": {},
   "outputs": [
    {
     "data": {
      "text/plain": [
       "(6156, 2561)"
      ]
     },
     "execution_count": 137,
     "metadata": {},
     "output_type": "execute_result"
    }
   ],
   "source": [
    "decompo_matrix = np.zeros((n_char, n_compo), dtype=np.int32)\n",
    "decompo_matrix.shape"
   ]
  },
  {
   "cell_type": "code",
   "execution_count": 138,
   "metadata": {},
   "outputs": [],
   "source": [
    "for item_x in decompo_set:\n",
    "    char_idx = char_enc.transform([item_x[0]])[0]\n",
    "    compo_idx = compo_enc.transform([item_x[1]])[0]\n",
    "    decompo_matrix[char_idx, compo_idx] = 1"
   ]
  },
  {
   "cell_type": "code",
   "execution_count": 158,
   "metadata": {},
   "outputs": [
    {
     "data": {
      "text/plain": [
       "LabelEncoder()"
      ]
     },
     "execution_count": 158,
     "metadata": {},
     "output_type": "execute_result"
    }
   ],
   "source": [
    "aa = LabelEncoder()\n",
    "aa.fit([\"a\", \"b\", \"c\"])"
   ]
  },
  {
   "cell_type": "code",
   "execution_count": 163,
   "metadata": {},
   "outputs": [
    {
     "name": "stdout",
     "output_type": "stream",
     "text": [
      "(6156, 1369)\n"
     ]
    },
    {
     "data": {
      "text/plain": [
       "1369"
      ]
     },
     "execution_count": 163,
     "metadata": {},
     "output_type": "execute_result"
    }
   ],
   "source": [
    "sel_compo_idx = decompo_matrix.sum(axis=0)>1\n",
    "sel_compo_enc = LabelEncoder()\n",
    "sel_compo_enc.fit(compo_enc.classes_[sel_compo_idx])\n",
    "decompo_matrix_reduced = decompo_matrix[:, sel_compo_idx]\n",
    "print(decompo_matrix_reduced.shape)\n",
    "la.matrix_rank(decompo_matrix_reduced)"
   ]
  },
  {
   "cell_type": "code",
   "execution_count": 161,
   "metadata": {},
   "outputs": [
    {
     "data": {
      "text/plain": [
       "(6156, 300)"
      ]
     },
     "execution_count": 161,
     "metadata": {},
     "output_type": "execute_result"
    }
   ],
   "source": [
    "## Character semantic vector\n",
    "word_kv_idxs = []\n",
    "for word in char_enc.classes_:\n",
    "    word_kv_idxs.append(kv.vocab[word].index)\n",
    "char_ft = kv.vectors_norm[word_kv_idxs, :]\n",
    "char_ft.shape"
   ]
  },
  {
   "cell_type": "markdown",
   "metadata": {},
   "source": [
    "## Component semantic matrix\n",
    "$$\n",
    "C_{k\\times d}: \\textrm{Component semantic matrix, k components $\\times$ d vector size }\\\\\n",
    "Z_{n\\times d}: \\textrm{Character semantic matrix, n characters $\\times$ d vector size }\\\\\n",
    "D_{n\\times k}: \\textrm{Decomposition matrix, n characters $\\times$ k components}\\\\\n",
    "Z = D\\cdot C\\\\\n",
    "C = (D^\\top D)^{-1}D^\\top Z\n",
    "$$"
   ]
  },
  {
   "cell_type": "code",
   "execution_count": 164,
   "metadata": {},
   "outputs": [
    {
     "name": "stdout",
     "output_type": "stream",
     "text": [
      "D, Z:  (6156, 1369) (6156, 300)\n"
     ]
    }
   ],
   "source": [
    "import numpy as np\n",
    "import numpy.linalg as la\n",
    "\n",
    "D = decompo_matrix_reduced\n",
    "Z = char_ft\n",
    "print(\"D, Z: \", D.shape, Z.shape)\n",
    "compo_ft = la.inv(D.T.dot(D)).dot(D.T).dot(Z)"
   ]
  },
  {
   "cell_type": "code",
   "execution_count": 183,
   "metadata": {},
   "outputs": [],
   "source": [
    "Zhat = D.dot(compo_ft)\n",
    "R = np.corrcoef(Z, Zhat)"
   ]
  },
  {
   "cell_type": "code",
   "execution_count": 196,
   "metadata": {},
   "outputs": [
    {
     "data": {
      "text/plain": [
       "(6104, 6104)"
      ]
     },
     "execution_count": 196,
     "metadata": {},
     "output_type": "execute_result"
    }
   ],
   "source": [
    "Rn[~nan_rows_idx, :][:, ~nan_rows_idx].shape"
   ]
  },
  {
   "cell_type": "code",
   "execution_count": 200,
   "metadata": {},
   "outputs": [
    {
     "data": {
      "text/plain": [
       "<matplotlib.image.AxesImage at 0x22f923fb640>"
      ]
     },
     "execution_count": 200,
     "metadata": {},
     "output_type": "execute_result"
    },
    {
     "data": {
      "image/png": "[encoded data removed]",
      "text/plain": [
       "<Figure size 432x288 with 1 Axes>"
      ]
     },
     "metadata": {
      "needs_background": "light"
     },
     "output_type": "display_data"
    }
   ],
   "source": [
    "Rn = R[:Z.shape[0], Z.shape[0]:]\n",
    "nan_rows_idx = np.isnan(Rn).any(axis=0)\n",
    "plt.imshow(Rn[~nan_rows_idx, :][:, ~nan_rows_idx], cmap=\"hot\", vmin=.90)"
   ]
  },
  {
   "cell_type": "code",
   "execution_count": 208,
   "metadata": {},
   "outputs": [
    {
     "data": {
      "text/plain": [
       "(6156,)"
      ]
     },
     "execution_count": 208,
     "metadata": {},
     "output_type": "execute_result"
    }
   ],
   "source": [
    "la.norm(Z, axis=1).shape"
   ]
  },
  {
   "cell_type": "code",
   "execution_count": 210,
   "metadata": {},
   "outputs": [],
   "source": [
    "def query_component(compo, is_trad=True):\n",
    "    compo = compo + (\"_t\" if is_trad else \"_s\")\n",
    "    compo_vec = compo_ft[sel_compo_enc.transform([compo])[0]]\n",
    "    return compo_vec"
   ]
  },
  {
   "cell_type": "code",
   "execution_count": 213,
   "metadata": {},
   "outputs": [
    {
     "data": {
      "text/plain": [
       "[('雙', 0.9749046564102173),\n",
       " ('馭', 0.9748619794845581),\n",
       " ('隻', 0.9687663316726685),\n",
       " ('兩', 0.9605927467346191),\n",
       " ('單', 0.9604883790016174),\n",
       " ('則', 0.9590445160865784),\n",
       " ('與', 0.9579811096191406),\n",
       " ('並', 0.9563131928443909),\n",
       " ('爲', 0.9559267163276672),\n",
       " ('將', 0.9556430578231812)]"
      ]
     },
     "execution_count": 213,
     "metadata": {},
     "output_type": "execute_result"
    }
   ],
   "source": [
    "kv.similar_by_vector(query_component(\"又\", is_trad=True))"
   ]
  },
  {
   "cell_type": "code",
   "execution_count": 214,
   "metadata": {},
   "outputs": [
    {
     "data": {
      "text/plain": [
       "[('则', 0.9889439344406128),\n",
       " ('却', 0.9887244701385498),\n",
       " ('对', 0.9873088002204895),\n",
       " ('与', 0.9872829914093018),\n",
       " ('当', 0.9870806932449341),\n",
       " ('虽', 0.9868679642677307),\n",
       " ('说', 0.986778974533081),\n",
       " ('并', 0.9860985279083252),\n",
       " ('还', 0.9857279062271118),\n",
       " ('将', 0.985576868057251)]"
      ]
     },
     "execution_count": 214,
     "metadata": {},
     "output_type": "execute_result"
    }
   ],
   "source": [
    "kv.similar_by_vector(query_component(\"又\", is_trad=False))"
   ]
  },
  {
   "cell_type": "code",
   "execution_count": null,
   "metadata": {},
   "outputs": [],
   "source": []
  }
 ],
 "metadata": {
  "kernelspec": {
   "display_name": "Python 3",
   "language": "python",
   "name": "python3"
  },
  "language_info": {
   "codemirror_mode": {
    "name": "ipython",
    "version": 3
   },
   "file_extension": ".py",
   "mimetype": "text/x-python",
   "name": "python",
   "nbconvert_exporter": "python",
   "pygments_lexer": "ipython3",
   "version": "3.8.2"
  }
 },
 "nbformat": 4,
 "nbformat_minor": 4
}
