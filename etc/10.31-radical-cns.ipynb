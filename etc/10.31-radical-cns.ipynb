{
 "cells": [
  {
   "cell_type": "code",
   "execution_count": 1,
   "id": "second-elimination",
   "metadata": {},
   "outputs": [],
   "source": [
    "%load_ext autoreload\n",
    "%autoreload 2"
   ]
  },
  {
   "cell_type": "code",
   "execution_count": 2,
   "id": "waiting-compatibility",
   "metadata": {},
   "outputs": [],
   "source": [
    "import sys\n",
    "sys.path.append(\"../src\")"
   ]
  },
  {
   "cell_type": "code",
   "execution_count": 3,
   "id": "tropical-clarity",
   "metadata": {},
   "outputs": [],
   "source": [
    "from CompoTree import ComponentTree, Radicals, TSVariants, CharLexicon, CTFounds\n",
    "from gensim.models.keyedvectors import KeyedVectors\n",
    "import igraph as ig"
   ]
  },
  {
   "cell_type": "code",
   "execution_count": 6,
   "id": "public-webster",
   "metadata": {},
   "outputs": [],
   "source": [
    "ctree = ComponentTree.load()\n",
    "radicals = Radicals.load()\n",
    "tsvars = TSVariants.load()\n",
    "lexicon = CharLexicon.load()"
   ]
  },
  {
   "cell_type": "code",
   "execution_count": 12,
   "id": "variable-louisville",
   "metadata": {},
   "outputs": [],
   "source": [
    "trad_chars = [x for x in lexicon if not tsvars.is_simplified(x)]"
   ]
  },
  {
   "cell_type": "code",
   "execution_count": 135,
   "id": "canadian-pleasure",
   "metadata": {},
   "outputs": [],
   "source": [
    "char_pools = [x for x in trad_chars if \n",
    "              x != tsvars.convert(x)[0]]\n",
    "char_pools = [tsvars.convert(x)[0] for x in char_pools]\n"
   ]
  },
  {
   "cell_type": "code",
   "execution_count": 140,
   "id": "entitled-mortgage",
   "metadata": {},
   "outputs": [],
   "source": [
    "char_decomp = []\n",
    "for x in set(char_pools):\n",
    "    try:\n",
    "        decomp_x = (x, ctree.query(x, max_depth=1, use_flag=\"shortest\")[0])\n",
    "        char_decomp.append(decomp_x)\n",
    "    except:\n",
    "        pass\n",
    "\n",
    "char_decomp = [x for x in char_decomp if not isinstance(x[1], str) and (len(x[1].components())==2)]\n"
   ]
  },
  {
   "cell_type": "code",
   "execution_count": 141,
   "id": "incident-equivalent",
   "metadata": {},
   "outputs": [
    {
     "name": "stdout",
     "output_type": "stream",
     "text": [
      "duplicated decompositions:  晖 ⿰['日']['军']\n"
     ]
    }
   ],
   "source": [
    "compo_dict = {}\n",
    "edge_dict = {}\n",
    "for char_x, decomp_x in char_decomp:\n",
    "    compos = decomp_x.components()\n",
    "    compo_dict[compos[0]] = compo_dict.get(compos[0], len(compo_dict))\n",
    "    compo_dict[compos[1]] = compo_dict.get(compos[1], len(compo_dict))\n",
    "    \n",
    "    # edges\n",
    "    eid = (compo_dict[compos[0]], compo_dict[compos[1]])\n",
    "    if eid in edge_dict:\n",
    "        print(\"duplicated decompositions: \", char_x, decomp_x)\n",
    "    edge_dict[eid] = edge_dict.get(eid, len(edge_dict))"
   ]
  },
  {
   "cell_type": "code",
   "execution_count": 142,
   "id": "documented-invalid",
   "metadata": {},
   "outputs": [
    {
     "data": {
      "text/plain": [
       "(1673, 1573, 812, 1572)"
      ]
     },
     "execution_count": 142,
     "metadata": {},
     "output_type": "execute_result"
    }
   ],
   "source": [
    "len(char_pools), len(char_decomp), len(compo_dict), len(edge_dict)"
   ]
  },
  {
   "cell_type": "code",
   "execution_count": 143,
   "id": "instructional-chase",
   "metadata": {},
   "outputs": [],
   "source": [
    "G = ig.Graph()\n",
    "for compo_x, compo_id in compo_dict.items():\n",
    "    G.add_vertex(compo_id, compo=compo_x)\n",
    "for edge_x, edge_id in edge_dict.items():\n",
    "    src, tgt = edge_x\n",
    "    G.add_edge(src, tgt)"
   ]
  },
  {
   "cell_type": "code",
   "execution_count": 144,
   "id": "twenty-journalism",
   "metadata": {},
   "outputs": [
    {
     "data": {
      "text/plain": [
       "[('冫', '中'),\n",
       " ('㐅', '朩'),\n",
       " ('广', '由'),\n",
       " ('口', '屯'),\n",
       " ('讠', '川'),\n",
       " ('阝', '人'),\n",
       " ('犭', '争'),\n",
       " ('分', '页'),\n",
       " ('讠', '平'),\n",
       " ('歹', '戋')]"
      ]
     },
     "execution_count": 144,
     "metadata": {},
     "output_type": "execute_result"
    }
   ],
   "source": [
    "compo_rev = {v: k for k, v in compo_dict.items()}\n",
    "[(compo_rev[x.source], compo_rev[x.target]) for x in G.es[:10]]"
   ]
  },
  {
   "cell_type": "code",
   "execution_count": 145,
   "id": "starting-hearing",
   "metadata": {},
   "outputs": [
    {
     "data": {
      "text/plain": [
       "'IGRAPH UN-- 812 1572 -- \\n+ attr: compo (v), name (v)'"
      ]
     },
     "execution_count": 145,
     "metadata": {},
     "output_type": "execute_result"
    }
   ],
   "source": [
    "G.summary()"
   ]
  },
  {
   "cell_type": "code",
   "execution_count": 148,
   "id": "strategic-period",
   "metadata": {},
   "outputs": [
    {
     "data": {
      "text/plain": [
       "[782, 3, 2, 2, 2, 2, 2, 2, 3, 2, 2, 2, 2, 2, 2]"
      ]
     },
     "execution_count": 148,
     "metadata": {},
     "output_type": "execute_result"
    }
   ],
   "source": [
    "[len(x) for x in G.components()]"
   ]
  },
  {
   "cell_type": "code",
   "execution_count": 146,
   "id": "physical-flood",
   "metadata": {},
   "outputs": [],
   "source": [
    "from graphviz import Graph"
   ]
  },
  {
   "cell_type": "code",
   "execution_count": 147,
   "id": "welcome-viewer",
   "metadata": {},
   "outputs": [],
   "source": [
    "vG = Graph(comment=\"Component Graph\", format=\"svg\", engine='sfdp')\n",
    "# G.attr('node', fontname=\"HanaMinA\")\n",
    "\n",
    "for compo_x, compo_id in compo_dict.items():\n",
    "    # vG.node(str(compo_id), str(compo_x))\n",
    "    vG.node(str(compo_id), \"\")\n",
    "vG.edges([(str(src), str(tgt)) for src, tgt in edge_dict.keys()])"
   ]
  },
  {
   "cell_type": "code",
   "execution_count": 150,
   "id": "breeding-quest",
   "metadata": {},
   "outputs": [
    {
     "data": {
      "text/plain": [
       "'Graph.simp.gv.svg.svg'"
      ]
     },
     "execution_count": 150,
     "metadata": {},
     "output_type": "execute_result"
    }
   ],
   "source": [
    "vG.render(\"Graph.simp.gv.svg\", view=True)"
   ]
  },
  {
   "cell_type": "code",
   "execution_count": null,
   "id": "direct-slope",
   "metadata": {},
   "outputs": [],
   "source": []
  }
 ],
 "metadata": {
  "kernelspec": {
   "display_name": "Python 3",
   "language": "python",
   "name": "python3"
  },
  "language_info": {
   "codemirror_mode": {
    "name": "ipython",
    "version": 3
   },
   "file_extension": ".py",
   "mimetype": "text/x-python",
   "name": "python",
   "nbconvert_exporter": "python",
   "pygments_lexer": "ipython3",
   "version": "3.7.4"
  }
 },
 "nbformat": 4,
 "nbformat_minor": 5
}
