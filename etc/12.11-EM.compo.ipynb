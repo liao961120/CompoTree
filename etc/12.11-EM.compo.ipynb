{
 "cells": [
  {
   "cell_type": "code",
   "execution_count": 1,
   "metadata": {},
   "outputs": [],
   "source": [
    "%load_ext autoreload\n",
    "%autoreload 2"
   ]
  },
  {
   "cell_type": "code",
   "execution_count": 2,
   "metadata": {},
   "outputs": [],
   "source": [
    "import sys\n",
    "sys.path.append(\"../src\")"
   ]
  },
  {
   "cell_type": "code",
   "execution_count": 40,
   "metadata": {},
   "outputs": [],
   "source": [
    "from CompoTree import ComponentTree, Radicals, TSVariants, CharLexicon, CTFounds\n",
    "from gensim.models.keyedvectors import KeyedVectors\n",
    "import numpy as np\n",
    "import numpy.linalg as la\n",
    "import pandas as pd\n",
    "import matplotlib.pyplot as plt\n",
    "from sklearn.decomposition import PCA\n",
    "import seaborn as sns\n",
    "plt.rcParams[\"font.family\"] = \"HanaMinA\" "
   ]
  },
  {
   "cell_type": "code",
   "execution_count": 4,
   "metadata": {},
   "outputs": [],
   "source": [
    "kv = KeyedVectors.load(\"../data/fasttext-zh-sw/fasttext-zh-sw.kv\")\n",
    "kv.init_sims()"
   ]
  },
  {
   "cell_type": "code",
   "execution_count": 69,
   "metadata": {},
   "outputs": [],
   "source": [
    "ctree = ComponentTree.load()\n",
    "radicals = Radicals.load()\n",
    "tsvars = TSVariants.load()\n",
    "lexicon = CharLexicon.load(topn=3000)"
   ]
  },
  {
   "cell_type": "code",
   "execution_count": 70,
   "metadata": {},
   "outputs": [
    {
     "name": "stdout",
     "output_type": "stream",
     "text": [
      "[WARNING] current implementation only consider two-component characters with target at the first position\n"
     ]
    },
    {
     "data": {
      "text/plain": [
       "[('榕', '熔'),\n",
       " ('杜', '灶'),\n",
       " ('檜', '燴'),\n",
       " ('橙', '燈'),\n",
       " ('樺', '燁'),\n",
       " ('欄', '爛'),\n",
       " ('格', '烙'),\n",
       " ('杓', '灼'),\n",
       " ('楊', '煬'),\n",
       " ('棍', '焜'),\n",
       " ('柄', '炳'),\n",
       " ('桿', '焊')]"
      ]
     },
     "execution_count": 70,
     "metadata": {},
     "output_type": "execute_result"
    }
   ],
   "source": [
    "[(x, y) for x, y in ctree.mutual_friends(\"木\", \"火\")\n",
    " if x in lexicon.traditional and y in lexicon.traditional]"
   ]
  },
  {
   "cell_type": "code",
   "execution_count": 88,
   "metadata": {},
   "outputs": [],
   "source": [
    "targets = \"澄橙燈杆欄爛炒沙汗\"\n",
    "vectors = np.array(\n",
    "          [5, 4,\n",
    "           2, 8,\n",
    "           7, 8,\n",
    "           2.5, 9,\n",
    "           1.5, 9,\n",
    "           8.5, 5.5,\n",
    "           8.5, 8.5,\n",
    "           5.5, 1,\n",
    "           2.5, 1])\n",
    "vectors = np.reshape(vectors, (9, 2))"
   ]
  },
  {
   "cell_type": "code",
   "execution_count": 89,
   "metadata": {},
   "outputs": [
    {
     "data": {
      "image/png": "[encoded data removed]",
      "text/plain": [
       "<Figure size 432x288 with 1 Axes>"
      ]
     },
     "metadata": {
      "needs_background": "light"
     },
     "output_type": "display_data"
    }
   ],
   "source": [
    "plt.plot(vectors[:,0], vectors[:, 1], '.')\n",
    "for i, ch in enumerate(targets):\n",
    "    plt.text(vectors[i, 0], vectors[i, 1], targets[i], fontsize=14)"
   ]
  },
  {
   "cell_type": "code",
   "execution_count": null,
   "metadata": {},
   "outputs": [],
   "source": []
  }
 ],
 "metadata": {
  "kernelspec": {
   "display_name": "Python 3",
   "language": "python",
   "name": "python3"
  },
  "language_info": {
   "codemirror_mode": {
    "name": "ipython",
    "version": 3
   },
   "file_extension": ".py",
   "mimetype": "text/x-python",
   "name": "python",
   "nbconvert_exporter": "python",
   "pygments_lexer": "ipython3",
   "version": "3.8.2"
  }
 },
 "nbformat": 4,
 "nbformat_minor": 4
}
