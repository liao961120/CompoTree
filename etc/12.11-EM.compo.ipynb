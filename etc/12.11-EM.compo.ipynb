{
 "cells": [
  {
   "cell_type": "code",
   "execution_count": 3,
   "metadata": {},
   "outputs": [],
   "source": [
    "%load_ext autoreload\n",
    "%autoreload 2"
   ]
  },
  {
   "cell_type": "code",
   "execution_count": 4,
   "metadata": {},
   "outputs": [],
   "source": [
    "import sys\n",
    "sys.path.append(\"../src\")"
   ]
  },
  {
   "cell_type": "code",
   "execution_count": 5,
   "metadata": {},
   "outputs": [],
   "source": [
    "from CompoTree import ComponentTree, Radicals, TSVariants, CharLexicon, CTFounds\n",
    "from gensim.models.keyedvectors import KeyedVectors\n",
    "import numpy as np\n",
    "import numpy.linalg as la\n",
    "import pandas as pd\n",
    "import matplotlib.pyplot as plt\n",
    "from sklearn.decomposition import PCA\n",
    "import seaborn as sns\n",
    "plt.rcParams[\"font.family\"] = \"HanaMinA\" "
   ]
  },
  {
   "cell_type": "code",
   "execution_count": 6,
   "metadata": {},
   "outputs": [],
   "source": [
    "kv = KeyedVectors.load(\"../data/fasttext-zh-sw/fasttext-zh-sw.kv\")\n",
    "kv.init_sims()"
   ]
  },
  {
   "cell_type": "code",
   "execution_count": 7,
   "metadata": {},
   "outputs": [],
   "source": [
    "ctree = ComponentTree.load()\n",
    "radicals = Radicals.load()\n",
    "tsvars = TSVariants.load()\n",
    "lexicon = CharLexicon.load(topn=3000)"
   ]
  },
  {
   "cell_type": "code",
   "execution_count": 8,
   "metadata": {},
   "outputs": [
    {
     "name": "stdout",
     "output_type": "stream",
     "text": [
      "[WARNING] current implementation only consider two-component characters with target at the first position\n"
     ]
    },
    {
     "data": {
      "text/plain": [
       "[('杜', '灶'), ('柄', '炳'), ('欄', '爛')]"
      ]
     },
     "execution_count": 8,
     "metadata": {},
     "output_type": "execute_result"
    }
   ],
   "source": [
    "[(x, y) for x, y in ctree.mutual_friends(\"木\", \"火\")\n",
    " if x in lexicon.traditional and y in lexicon.traditional]"
   ]
  },
  {
   "cell_type": "code",
   "execution_count": 9,
   "metadata": {},
   "outputs": [],
   "source": [
    "targets = \"澄橙燈杆欄爛炒沙汗\"\n",
    "vectors = np.array(\n",
    "          [5, 4,\n",
    "           2, 8,\n",
    "           7, 8,\n",
    "           2.5, 9,\n",
    "           1.5, 9,\n",
    "           8.5, 5.5,\n",
    "           8.5, 8.5,\n",
    "           5.5, 1,\n",
    "           2.5, 1])\n",
    "vectors = np.reshape(vectors, (9, 2))"
   ]
  },
  {
   "cell_type": "code",
   "execution_count": 10,
   "metadata": {},
   "outputs": [
    {
     "data": {
      "image/png": "[encoded data removed]",
      "text/plain": [
       "<Figure size 432x288 with 1 Axes>"
      ]
     },
     "metadata": {
      "needs_background": "light"
     },
     "output_type": "display_data"
    }
   ],
   "source": [
    "plt.plot(vectors[:,0], vectors[:, 1], '.')\n",
    "for i, ch in enumerate(targets):\n",
    "    plt.text(vectors[i, 0], vectors[i, 1], targets[i], fontsize=14)"
   ]
  },
  {
   "cell_type": "code",
   "execution_count": 99,
   "metadata": {},
   "outputs": [],
   "source": [
    "from itertools import chain\n",
    "def make_decompo_matrix(chars):\n",
    "    decompos = {}\n",
    "    for ch in chars:\n",
    "        node = ctree.query(ch, use_flag=\"shortest\", max_depth=1)[0]\n",
    "        if isinstance(node, str):\n",
    "            continue\n",
    "        decompos[ch] = node.components()\n",
    "    compolist = list(chain.from_iterable(decompos.values()))\n",
    "    compolist = sorted(set(compolist))\n",
    "    \n",
    "    decompo_matrix = np.zeros((len(chars), len(compolist)))\n",
    "    for ch, compos in decompos.items():\n",
    "        decompo_matrix[\n",
    "            chars.index(ch), \n",
    "            [compolist.index(x) for x in compos]] = 1\n",
    "    return decompo_matrix, compolist"
   ]
  },
  {
   "cell_type": "code",
   "execution_count": 100,
   "metadata": {},
   "outputs": [],
   "source": [
    "dcmat, compolist = make_decompo_matrix(targets)\n",
    "# reorder the column for easier testing\n",
    "dcmat = dcmat[:,[compolist.index(x) for x in \"氵木火登干闌少\"]]\n",
    "compolist = \"氵木火登干闌少\""
   ]
  },
  {
   "cell_type": "code",
   "execution_count": 101,
   "metadata": {},
   "outputs": [
    {
     "data": {
      "text/plain": [
       "6"
      ]
     },
     "execution_count": 101,
     "metadata": {},
     "output_type": "execute_result"
    }
   ],
   "source": [
    "# There is a constraint that since I choose bi-component character, the row-sum must be 2\n",
    "# therefore there must be a rank-deficit\n",
    "la.matrix_rank(dcmat)"
   ]
  },
  {
   "cell_type": "markdown",
   "metadata": {},
   "source": [
    "$$\n",
    "\\begin{align}\n",
    "\\phi_{i,j} &= e^{-d(z_i, c_j)/\\sigma_j}, \\textrm{if $z_i \\in \\mathcal{H}(c_i)$, else 0}\\\\\n",
    "p(c_j|z_i) &= \\frac{\\phi_{i,j}}{\\sum_j \\phi_{i,j}} \\\\\n",
    "p(z_i|c_j) &= \\frac{p(c_j|z_i)p(z_i)}{\\sum_{z_i \\in \\mathcal{H}(c_j)}{p(c_j|z_i)p(z_i)}} \\\\\n",
    "v(c_j) &= \\sum_{z_i\\in\\mathcal{H}(c_j)} p(z_i|c_j) v(z_i)\n",
    "\\end{align}\n",
    "$$"
   ]
  },
  {
   "cell_type": "markdown",
   "metadata": {},
   "source": [
    "$\\phi_{i,j}$: score between character $i$ and component $j$  \n",
    "$d(z_i, c_j)$: the distance metric between character $i$, $z_i$ and component $j$, $c_j$  \n",
    "$\\mathcal{H}(c_j)$: the characters containing component $c_j$  \n",
    "$v(c_j)$: the embedding vector of $c_j$"
   ]
  },
  {
   "cell_type": "code",
   "execution_count": 103,
   "metadata": {},
   "outputs": [],
   "source": [
    "from scipy.spatial.distance import euclidean"
   ]
  },
  {
   "cell_type": "markdown",
   "metadata": {},
   "source": [
    "## initialize"
   ]
  },
  {
   "cell_type": "code",
   "execution_count": null,
   "metadata": {},
   "outputs": [],
   "source": [
    "np.set_printoptions(precision=4)"
   ]
  },
  {
   "cell_type": "code",
   "execution_count": 155,
   "metadata": {},
   "outputs": [],
   "source": [
    "phi = dcmat.copy()\n",
    "compo_vectors = np.zeros((len(compolist), vectors.shape[1]))"
   ]
  },
  {
   "cell_type": "markdown",
   "metadata": {},
   "source": [
    "## Playground"
   ]
  },
  {
   "cell_type": "code",
   "execution_count": 166,
   "metadata": {},
   "outputs": [
    {
     "data": {
      "text/plain": [
       "array([[4.3333, 2.    ],\n",
       "       [2.    , 8.6667],\n",
       "       [8.    , 7.3333],\n",
       "       [4.6667, 6.6667],\n",
       "       [2.5   , 5.    ],\n",
       "       [5.    , 7.25  ],\n",
       "       [7.    , 4.75  ]])"
      ]
     },
     "execution_count": 166,
     "metadata": {},
     "output_type": "execute_result"
    }
   ],
   "source": [
    "compo_vectors"
   ]
  },
  {
   "cell_type": "code",
   "execution_count": 173,
   "metadata": {},
   "outputs": [],
   "source": [
    "dist = np.zeros_like(phi)\n",
    "for i in range(vectors.shape[0]):\n",
    "    for j in range(compo_vectors.shape[0]):\n",
    "        dist[i,j] = euclidean(vectors[i, :], compo_vectors[j, :])        \n",
    "sigmas = np.std(dist, axis=0)\n",
    "phi = np.exp(-dist/sigmas)\n",
    "phi = phi * dcmat"
   ]
  },
  {
   "cell_type": "code",
   "execution_count": 174,
   "metadata": {},
   "outputs": [
    {
     "data": {
      "text/plain": [
       "array([[0.4165, 0.    , 0.    , 0.1017, 0.    , 0.    , 0.    ],\n",
       "       [0.    , 0.8031, 0.    , 0.0792, 0.    , 0.    , 0.    ],\n",
       "       [0.    , 0.    , 0.6199, 0.1017, 0.    , 0.    , 0.    ],\n",
       "       [0.    , 0.8206, 0.    , 0.    , 0.0467, 0.    , 0.    ],\n",
       "       [0.    , 0.8206, 0.    , 0.    , 0.    , 0.0651, 0.    ],\n",
       "       [0.    , 0.    , 0.4695, 0.    , 0.    , 0.0651, 0.    ],\n",
       "       [0.    , 0.    , 0.6035, 0.    , 0.    , 0.    , 0.1028],\n",
       "       [0.5282, 0.    , 0.    , 0.    , 0.    , 0.    , 0.1028],\n",
       "       [0.42  , 0.    , 0.    , 0.    , 0.0467, 0.    , 0.    ]])"
      ]
     },
     "execution_count": 174,
     "metadata": {},
     "output_type": "execute_result"
    }
   ],
   "source": [
    "phi"
   ]
  },
  {
   "cell_type": "code",
   "execution_count": 175,
   "metadata": {},
   "outputs": [],
   "source": [
    "pcz = phi/phi.sum(axis=1, keepdims=True)"
   ]
  },
  {
   "cell_type": "code",
   "execution_count": 176,
   "metadata": {},
   "outputs": [],
   "source": [
    "pz = np.ones(phi.shape[0]) / phi.shape[0]  # uniform character weight"
   ]
  },
  {
   "cell_type": "code",
   "execution_count": 177,
   "metadata": {},
   "outputs": [
    {
     "data": {
      "text/plain": [
       "array([[0.8037, 0.    , 0.    , 0.1963, 0.    , 0.    , 0.    ],\n",
       "       [0.    , 0.9102, 0.    , 0.0898, 0.    , 0.    , 0.    ],\n",
       "       [0.    , 0.    , 0.859 , 0.141 , 0.    , 0.    , 0.    ],\n",
       "       [0.    , 0.9461, 0.    , 0.    , 0.0539, 0.    , 0.    ],\n",
       "       [0.    , 0.9265, 0.    , 0.    , 0.    , 0.0735, 0.    ],\n",
       "       [0.    , 0.    , 0.8782, 0.    , 0.    , 0.1218, 0.    ],\n",
       "       [0.    , 0.    , 0.8544, 0.    , 0.    , 0.    , 0.1456],\n",
       "       [0.837 , 0.    , 0.    , 0.    , 0.    , 0.    , 0.163 ],\n",
       "       [0.8998, 0.    , 0.    , 0.    , 0.1002, 0.    , 0.    ]])"
      ]
     },
     "execution_count": 177,
     "metadata": {},
     "output_type": "execute_result"
    }
   ],
   "source": [
    "pcz"
   ]
  },
  {
   "cell_type": "code",
   "execution_count": 202,
   "metadata": {},
   "outputs": [
    {
     "data": {
      "text/plain": [
       "array([[0.23  , 0.    , 0.    , 0.4311, 0.    , 0.    , 0.    ],\n",
       "       [0.    , 0.2786, 0.    , 0.3117, 0.    , 0.    , 0.    ],\n",
       "       [0.    , 0.    , 0.339 , 0.2571, 0.    , 0.    , 0.    ],\n",
       "       [0.    , 0.3933, 0.    , 0.    , 0.3254, 0.    , 0.    ],\n",
       "       [0.    , 0.3281, 0.    , 0.    , 0.    , 0.4017, 0.    ],\n",
       "       [0.    , 0.    , 0.23  , 0.    , 0.    , 0.5983, 0.    ],\n",
       "       [0.    , 0.    , 0.4311, 0.    , 0.    , 0.    , 0.4157],\n",
       "       [0.4713, 0.    , 0.    , 0.    , 0.    , 0.    , 0.5843],\n",
       "       [0.2987, 0.    , 0.    , 0.    , 0.6746, 0.    , 0.    ]])"
      ]
     },
     "execution_count": 202,
     "metadata": {},
     "output_type": "execute_result"
    }
   ],
   "source": [
    "pzc = pcz * pz[:, np.newaxis]\n",
    "# pzc = pzc * dcmat\n",
    "pzc = pzc / pzc.sum(axis=0)\n",
    "pzc"
   ]
  },
  {
   "cell_type": "code",
   "execution_count": 164,
   "metadata": {},
   "outputs": [],
   "source": [
    "prev_compo_vectors = compo_vectors.copy()\n",
    "compo_vectors = pzc.T.dot(vectors)"
   ]
  },
  {
   "cell_type": "code",
   "execution_count": 165,
   "metadata": {},
   "outputs": [
    {
     "data": {
      "image/png": "[encoded data removed]",
      "text/plain": [
       "<Figure size 432x288 with 1 Axes>"
      ]
     },
     "metadata": {
      "needs_background": "light"
     },
     "output_type": "display_data"
    }
   ],
   "source": [
    "plt.plot(vectors[:,0], vectors[:, 1], '.')\n",
    "for i, ch in enumerate(targets):\n",
    "    plt.text(vectors[i, 0], vectors[i, 1], ch, fontsize=14)\n",
    "for j, compo in enumerate(compolist):\n",
    "    plt.text(compo_vectors[j, 0], compo_vectors[j, 1], compo, fontsize=14, color=\"red\")"
   ]
  },
  {
   "cell_type": "markdown",
   "metadata": {},
   "source": [
    "## Iterations"
   ]
  },
  {
   "cell_type": "code",
   "execution_count": 145,
   "metadata": {},
   "outputs": [],
   "source": [
    "from tqdm.auto import tqdm"
   ]
  },
  {
   "cell_type": "code",
   "execution_count": 203,
   "metadata": {},
   "outputs": [
    {
     "data": {
      "application/vnd.jupyter.widget-view+json": {
       "model_id": "0eaaef3e9ae94c4aaca31fc4f99cdd9a",
       "version_major": 2,
       "version_minor": 0
      },
      "text/plain": [
       "HBox(children=(FloatProgress(value=0.0, max=20.0), HTML(value='')))"
      ]
     },
     "metadata": {},
     "output_type": "display_data"
    },
    {
     "name": "stdout",
     "output_type": "stream",
     "text": [
      "\n"
     ]
    }
   ],
   "source": [
    "# initialize\n",
    "phi = dcmat.copy()\n",
    "compo_vectors = np.zeros((len(compolist), vectors.shape[1]))\n",
    "compo_history = []\n",
    "delta_list = []\n",
    "\n",
    "## MLE of component vector\n",
    "for iter_i in tqdm(range(20)):\n",
    "    dist = np.zeros_like(phi)\n",
    "    for i in range(vectors.shape[0]):\n",
    "        for j in range(compo_vectors.shape[0]):\n",
    "            dist[i,j] = euclidean(vectors[i, :], compo_vectors[j, :])        \n",
    "    dist = dist * dcmat\n",
    "    sigmas = np.std(dist, axis=0)\n",
    "    phi = np.exp(-dist/sigmas)\n",
    "    phi = phi * dcmat\n",
    "    pcz = phi/phi.sum(axis=1, keepdims=True)\n",
    "    pz = np.ones(phi.shape[0]) / phi.shape[0]  # uniform character weight    \n",
    "    pzc = pcz * pz[:, np.newaxis]\n",
    "    pzc = pzc / pzc.sum(axis=0)\n",
    "    prev_compo_vectors = compo_vectors.copy()\n",
    "    compo_vectors = pzc.T.dot(vectors)\n",
    "    diff_vectors = compo_vectors - prev_compo_vectors\n",
    "    delta = la.norm(diff_vectors, axis=1).sum()\n",
    "    delta_list.append(delta)\n",
    "    compo_history.append(compo_vectors)"
   ]
  },
  {
   "cell_type": "code",
   "execution_count": 208,
   "metadata": {},
   "outputs": [
    {
     "data": {
      "text/plain": [
       "[<matplotlib.lines.Line2D at 0x1a2ebd6bb50>]"
      ]
     },
     "execution_count": 208,
     "metadata": {},
     "output_type": "execute_result"
    },
    {
     "data": {
      "image/png": "[encoded data removed]",
      "text/plain": [
       "<Figure size 432x288 with 1 Axes>"
      ]
     },
     "metadata": {
      "needs_background": "light"
     },
     "output_type": "display_data"
    }
   ],
   "source": [
    "plt.plot(delta_list[1:])"
   ]
  },
  {
   "cell_type": "code",
   "execution_count": 205,
   "metadata": {},
   "outputs": [
    {
     "data": {
      "image/png": "[encoded data removed]",
      "text/plain": [
       "<Figure size 432x288 with 1 Axes>"
      ]
     },
     "metadata": {
      "needs_background": "light"
     },
     "output_type": "display_data"
    }
   ],
   "source": [
    "plt.plot(vectors[:,0], vectors[:, 1], '.')\n",
    "plt.axis(\"equal\")\n",
    "for i, ch in enumerate(targets):\n",
    "    plt.text(vectors[i, 0], vectors[i, 1], ch, fontsize=14)\n",
    "for j, compo in enumerate(compolist):\n",
    "    plt.text(compo_vectors[j, 0], compo_vectors[j, 1], compo, fontsize=14, color=\"red\")"
   ]
  },
  {
   "cell_type": "code",
   "execution_count": 206,
   "metadata": {},
   "outputs": [
    {
     "data": {
      "text/plain": [
       "array([[0.7753, 0.    , 0.    , 0.1066, 0.    , 0.    , 0.    ],\n",
       "       [0.    , 0.0591, 0.    , 0.7358, 0.    , 0.    , 0.    ],\n",
       "       [0.    , 0.    , 0.4525, 0.1577, 0.    , 0.    , 0.    ],\n",
       "       [0.    , 0.4704, 0.    , 0.    , 0.1494, 0.    , 0.    ],\n",
       "       [0.    , 0.4705, 0.    , 0.    , 0.    , 0.1451, 0.    ],\n",
       "       [0.    , 0.    , 0.0375, 0.    , 0.    , 0.8549, 0.    ],\n",
       "       [0.    , 0.    , 0.51  , 0.    , 0.    , 0.    , 0.095 ],\n",
       "       [0.1378, 0.    , 0.    , 0.    , 0.    , 0.    , 0.905 ],\n",
       "       [0.0869, 0.    , 0.    , 0.    , 0.8506, 0.    , 0.    ]])"
      ]
     },
     "execution_count": 206,
     "metadata": {},
     "output_type": "execute_result"
    }
   ],
   "source": [
    "pzc"
   ]
  },
  {
   "cell_type": "code",
   "execution_count": 207,
   "metadata": {},
   "outputs": [
    {
     "data": {
      "text/plain": [
       "array([[0.8705, 0.    , 0.    , 0.1295, 0.    , 0.    , 0.    ],\n",
       "       [0.    , 0.1058, 0.    , 0.8942, 0.    , 0.    , 0.    ],\n",
       "       [0.    , 0.    , 0.8084, 0.1916, 0.    , 0.    , 0.    ],\n",
       "       [0.    , 0.8415, 0.    , 0.    , 0.1585, 0.    , 0.    ],\n",
       "       [0.    , 0.8417, 0.    , 0.    , 0.    , 0.1583, 0.    ],\n",
       "       [0.    , 0.    , 0.067 , 0.    , 0.    , 0.933 , 0.    ],\n",
       "       [0.    , 0.    , 0.9112, 0.    , 0.    , 0.    , 0.0888],\n",
       "       [0.1548, 0.    , 0.    , 0.    , 0.    , 0.    , 0.8452],\n",
       "       [0.0976, 0.    , 0.    , 0.    , 0.9024, 0.    , 0.    ]])"
      ]
     },
     "execution_count": 207,
     "metadata": {},
     "output_type": "execute_result"
    }
   ],
   "source": [
    "pcz"
   ]
  },
  {
   "cell_type": "markdown",
   "metadata": {},
   "source": [
    "## Visualization"
   ]
  },
  {
   "cell_type": "code",
   "execution_count": 213,
   "metadata": {},
   "outputs": [
    {
     "data": {
      "text/plain": [
       "(20, 7, 2)"
      ]
     },
     "execution_count": 213,
     "metadata": {},
     "output_type": "execute_result"
    }
   ],
   "source": [
    "np.stack(compo_history, axis=0).shape"
   ]
  },
  {
   "cell_type": "code",
   "execution_count": 217,
   "metadata": {},
   "outputs": [
    {
     "data": {
      "text/plain": [
       "7"
      ]
     },
     "execution_count": 217,
     "metadata": {},
     "output_type": "execute_result"
    }
   ],
   "source": [
    "compo_traces.shape[1]"
   ]
  },
  {
   "cell_type": "code",
   "execution_count": 225,
   "metadata": {},
   "outputs": [
    {
     "data": {
      "image/png": "[encoded data removed]",
      "text/plain": [
       "<Figure size 576x576 with 1 Axes>"
      ]
     },
     "metadata": {
      "needs_background": "light"
     },
     "output_type": "display_data"
    }
   ],
   "source": [
    "plt.figure(figsize=(8,8))\n",
    "plt.plot(vectors[:,0], vectors[:, 1], '.')\n",
    "plt.axis(\"equal\")\n",
    "compo_traces = np.stack(compo_history, axis=0)\n",
    "for i, ch in enumerate(targets):\n",
    "    plt.text(vectors[i, 0], vectors[i, 1], ch, fontsize=16)\n",
    "for j in range(compo_traces.shape[1]):\n",
    "    plt.plot(compo_traces[:, j, 0], compo_traces[:, j, 1], color=\"blue\", linestyle='--', marker=\".\", linewidth=1)\n",
    "for j, compo in enumerate(compolist):\n",
    "    plt.text(compo_vectors[j, 0], compo_vectors[j, 1], compo, fontsize=16, color=\"red\")"
   ]
  },
  {
   "cell_type": "code",
   "execution_count": null,
   "metadata": {},
   "outputs": [],
   "source": []
  }
 ],
 "metadata": {
  "kernelspec": {
   "display_name": "Python 3",
   "language": "python",
   "name": "python3"
  },
  "language_info": {
   "codemirror_mode": {
    "name": "ipython",
    "version": 3
   },
   "file_extension": ".py",
   "mimetype": "text/x-python",
   "name": "python",
   "nbconvert_exporter": "python",
   "pygments_lexer": "ipython3",
   "version": "3.8.2"
  }
 },
 "nbformat": 4,
 "nbformat_minor": 4
}
